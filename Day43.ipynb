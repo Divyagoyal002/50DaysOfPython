{
 "cells": [
  {
   "cell_type": "code",
   "execution_count": 1,
   "id": "082df9b0",
   "metadata": {},
   "outputs": [
    {
     "name": "stdout",
     "output_type": "stream",
     "text": [
      "Enter the student name or done: div\n",
      "Enter the marks: 78\n",
      "Enter the student name or done: gayatri\n",
      "Enter the marks: 74\n",
      "Enter the student name or done: ridhi\n",
      "Enter the marks: 29\n",
      "Enter the student name or done: yuvi\n",
      "Enter the marks: 67\n",
      "Enter the student name or done: done\n",
      "{'div': 78, 'gayatri': 74, 'ridhi': 29, 'yuvi': 67}\n"
     ]
    }
   ],
   "source": [
    "def get_marks():\n",
    "    dic = {}\n",
    "    while True:\n",
    "        name = input('Enter the student name or done: ')\n",
    "        if name == 'done':\n",
    "            break\n",
    "        marks = int(input('Enter the marks: '))\n",
    "        dic[name] = dic.get(marks, 0) + marks\n",
    "    return dic\n",
    "print(get_marks())"
   ]
  },
  {
   "cell_type": "code",
   "execution_count": null,
   "id": "7c37f060",
   "metadata": {},
   "outputs": [],
   "source": []
  }
 ],
 "metadata": {
  "kernelspec": {
   "display_name": "Python 3 (ipykernel)",
   "language": "python",
   "name": "python3"
  },
  "language_info": {
   "codemirror_mode": {
    "name": "ipython",
    "version": 3
   },
   "file_extension": ".py",
   "mimetype": "text/x-python",
   "name": "python",
   "nbconvert_exporter": "python",
   "pygments_lexer": "ipython3",
   "version": "3.9.7"
  }
 },
 "nbformat": 4,
 "nbformat_minor": 5
}
