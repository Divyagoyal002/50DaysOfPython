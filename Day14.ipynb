{
 "cells": [
  {
   "cell_type": "code",
   "execution_count": 2,
   "id": "0784d295",
   "metadata": {},
   "outputs": [
    {
     "name": "stdout",
     "output_type": "stream",
     "text": [
      "Enter the name of the teacher: divya\n",
      "Enter rate per period: 1000\n",
      "Enter the number of periods taught: 40\n",
      "Teacher: divya, \n",
      "Periods: 40 \n",
      "Gross salary:40,000\n"
     ]
    }
   ],
   "source": [
    "def your_salary():\n",
    "    name = input('Enter the name of the teacher: ')\n",
    "    rate = int(input('Enter rate per period: '))\n",
    "    period = int(input('Enter the number of periods taught: '))\n",
    "    if period <= 100:\n",
    "        gross_salary = rate * period\n",
    "    else:\n",
    "        gross_salary = (rate * 100)\\\n",
    "        + ((period-100) * (rate + 5))\n",
    "    return f'Teacher: {name}, \\nPeriods: ' \\\n",
    "        f'{period} \\nGross salary:{gross_salary:,}'\n",
    "print(your_salary())"
   ]
  },
  {
   "cell_type": "code",
   "execution_count": 5,
   "id": "7d460585",
   "metadata": {},
   "outputs": [
    {
     "name": "stdout",
     "output_type": "stream",
     "text": [
      "[2, 4, 5, 6, 8, 3, 7]\n"
     ]
    }
   ],
   "source": [
    "def convert_list(lst1: list):\n",
    "    list1 = []\n",
    "    for items in lst1:\n",
    "        for i in items:\n",
    "            list1.append(i)\n",
    "    return list1\n",
    "print(convert_list([[2, 4],[ 5, 6],[8,3,7]]))\n"
   ]
  },
  {
   "cell_type": "code",
   "execution_count": null,
   "id": "c6e76d6a",
   "metadata": {},
   "outputs": [],
   "source": []
  }
 ],
 "metadata": {
  "kernelspec": {
   "display_name": "Python 3 (ipykernel)",
   "language": "python",
   "name": "python3"
  },
  "language_info": {
   "codemirror_mode": {
    "name": "ipython",
    "version": 3
   },
   "file_extension": ".py",
   "mimetype": "text/x-python",
   "name": "python",
   "nbconvert_exporter": "python",
   "pygments_lexer": "ipython3",
   "version": "3.9.7"
  }
 },
 "nbformat": 4,
 "nbformat_minor": 5
}
