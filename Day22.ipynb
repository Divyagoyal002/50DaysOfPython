{
 "cells": [
  {
   "cell_type": "code",
   "execution_count": 12,
   "id": "e9362070",
   "metadata": {},
   "outputs": [
    {
     "name": "stdout",
     "output_type": "stream",
     "text": [
      "p#y#t#h#o#n\n",
      "p_y_t_h_o_n\n",
      "Python\n"
     ]
    }
   ],
   "source": [
    "def add_hash(arr:str):\n",
    "    return \"#\".join(arr)\n",
    "\n",
    "def add_underscore(arr:str):\n",
    "    return str(arr).replace(\"#\",\"_\")\n",
    "\n",
    "def remove_underscore(arr:str):\n",
    "    return str(arr).replace(\"_\",\"\")\n",
    "\n",
    "print(add_hash(arr))\n",
    "print(add_underscore(add_hash(arr)))\n",
    "print(remove_underscore(add_underscore(add_hash('Python')))) "
   ]
  },
  {
   "cell_type": "code",
   "execution_count": null,
   "id": "725f8ce3",
   "metadata": {},
   "outputs": [],
   "source": []
  }
 ],
 "metadata": {
  "kernelspec": {
   "display_name": "Python 3 (ipykernel)",
   "language": "python",
   "name": "python3"
  },
  "language_info": {
   "codemirror_mode": {
    "name": "ipython",
    "version": 3
   },
   "file_extension": ".py",
   "mimetype": "text/x-python",
   "name": "python",
   "nbconvert_exporter": "python",
   "pygments_lexer": "ipython3",
   "version": "3.9.7"
  }
 },
 "nbformat": 4,
 "nbformat_minor": 5
}
