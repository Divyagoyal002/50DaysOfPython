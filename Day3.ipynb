{
 "cells": [
  {
   "cell_type": "code",
   "execution_count": 17,
   "id": "c00ddec1",
   "metadata": {},
   "outputs": [
    {
     "name": "stdout",
     "output_type": "stream",
     "text": [
      "Number of students in school is  3\n"
     ]
    }
   ],
   "source": [
    "register={'michael':'yes','john':'no','peter':'yes','mary':'yes'}\n",
    "def register_check(register):\n",
    "    n=0\n",
    "    for x in register.values():\n",
    "        if x=='yes':\n",
    "            n+=1\n",
    "    return n\n",
    "print('Number of students in school is ',register_check(register))"
   ]
  },
  {
   "cell_type": "code",
   "execution_count": 34,
   "id": "9c0d93df",
   "metadata": {},
   "outputs": [
    {
     "name": "stdout",
     "output_type": "stream",
     "text": [
      "('kerry', 'dickson', 'carol', 'adam')\n"
     ]
    }
   ],
   "source": [
    "names = [\"kerry\", \"dickson\", \"John\", \"Mary\",\n",
    " \"carol\", \"Rose\", \"adam\"]\n",
    "list=[]\n",
    "def lower_case(names):\n",
    "    for x in names:\n",
    "        if x[0].islower():\n",
    "            list.append(x)\n",
    "    #tuple(list)\n",
    "    return list\n",
    "print(tuple(lower_case(names)))\n",
    "#output:('kerry', 'dickson', 'carol', 'adam')"
   ]
  },
  {
   "cell_type": "code",
   "execution_count": null,
   "id": "0c3ba00f",
   "metadata": {},
   "outputs": [],
   "source": []
  }
 ],
 "metadata": {
  "kernelspec": {
   "display_name": "Python 3 (ipykernel)",
   "language": "python",
   "name": "python3"
  },
  "language_info": {
   "codemirror_mode": {
    "name": "ipython",
    "version": 3
   },
   "file_extension": ".py",
   "mimetype": "text/x-python",
   "name": "python",
   "nbconvert_exporter": "python",
   "pygments_lexer": "ipython3",
   "version": "3.9.7"
  }
 },
 "nbformat": 4,
 "nbformat_minor": 5
}
