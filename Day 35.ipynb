{
 "cells": [
  {
   "cell_type": "code",
   "execution_count": 1,
   "id": "297c40f8",
   "metadata": {},
   "outputs": [
    {
     "name": "stdout",
     "output_type": "stream",
     "text": [
      "True\n",
      "False\n"
     ]
    }
   ],
   "source": [
    "import string \n",
    "def alphabets(sentence):\n",
    "    list1=[]\n",
    "    alphabet = string.ascii_lowercase\n",
    "    sentence=sentence.replace(\" \",\"\")\n",
    "    for i in sentence:\n",
    "        if i not in list1:\n",
    "            list1.append(i)\n",
    "            \n",
    "    list1.sort()\n",
    "    sentence=\"\".join(list1)\n",
    "    if alphabet==sentence:\n",
    "        return True\n",
    "    else:\n",
    "        return False\n",
    "    \n",
    "s=\"the quick brown fox jumps over a lazy dog\"\n",
    "s2=\"hello goodmornng you all\"\n",
    "print(alphabets(s))\n",
    "print(alphabets(s2))"
   ]
  },
  {
   "cell_type": "code",
   "execution_count": 2,
   "id": "1feb8829",
   "metadata": {},
   "outputs": [
    {
     "name": "stdout",
     "output_type": "stream",
     "text": [
      "([4, 5], [7, 7, 7, 7, 7, 7])\n"
     ]
    }
   ],
   "source": [
    "#Extra Challenge\n",
    "def return_index(list1:list,a):\n",
    "    n=len(list1)\n",
    "    index=[]\n",
    "    for i in range(0,n):\n",
    "        if list1[i]==a:\n",
    "            index.append(i)\n",
    "        else:\n",
    "            list1[i]=a\n",
    "    return index,list1\n",
    "a=7\n",
    "l= [1, 2, 4, 6, 7, 7] \n",
    "print(return_index(l,a))"
   ]
  },
  {
   "cell_type": "code",
   "execution_count": null,
   "id": "62f268ee",
   "metadata": {},
   "outputs": [],
   "source": []
  }
 ],
 "metadata": {
  "kernelspec": {
   "display_name": "Python 3 (ipykernel)",
   "language": "python",
   "name": "python3"
  },
  "language_info": {
   "codemirror_mode": {
    "name": "ipython",
    "version": 3
   },
   "file_extension": ".py",
   "mimetype": "text/x-python",
   "name": "python",
   "nbconvert_exporter": "python",
   "pygments_lexer": "ipython3",
   "version": "3.9.7"
  }
 },
 "nbformat": 4,
 "nbformat_minor": 5
}
