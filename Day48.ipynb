{
 "cells": [
  {
   "cell_type": "code",
   "execution_count": 1,
   "id": "f067a37f",
   "metadata": {},
   "outputs": [
    {
     "name": "stdout",
     "output_type": "stream",
     "text": [
      "The element index is 2\n"
     ]
    }
   ],
   "source": [
    "def search_binary(list1, x):\n",
    "    low = 0\n",
    "    high = len(list1) - 1\n",
    "    mid_index = 0\n",
    "    while low <= high:\n",
    "        mid_index = (high + low) // 2\n",
    "        if list1[mid_index] == x:\n",
    "            return mid_index\n",
    "        elif list1[mid_index] > x:\n",
    "            high = mid_index - 1\n",
    "        elif list1[mid_index] < x:\n",
    "            low = mid_index + 1\n",
    "    return 'no element'\n",
    "list1 = [12, 34, 56, 78, 98, 22, 45, 13]\n",
    "list1 = sorted(list1)\n",
    "number = 22\n",
    "results = search_binary(list1, number)\n",
    "if results == 'no element':\n",
    "    print('Element is not in the list')\n",
    "else:\n",
    "    print(f'The element index is {results}')"
   ]
  },
  {
   "cell_type": "code",
   "execution_count": null,
   "id": "53bdaf5f",
   "metadata": {},
   "outputs": [],
   "source": []
  }
 ],
 "metadata": {
  "kernelspec": {
   "display_name": "Python 3 (ipykernel)",
   "language": "python",
   "name": "python3"
  },
  "language_info": {
   "codemirror_mode": {
    "name": "ipython",
    "version": 3
   },
   "file_extension": ".py",
   "mimetype": "text/x-python",
   "name": "python",
   "nbconvert_exporter": "python",
   "pygments_lexer": "ipython3",
   "version": "3.9.7"
  }
 },
 "nbformat": 4,
 "nbformat_minor": 5
}
