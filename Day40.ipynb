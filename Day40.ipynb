{
 "cells": [
  {
   "cell_type": "code",
   "execution_count": 1,
   "id": "308df94a",
   "metadata": {},
   "outputs": [
    {
     "name": "stdout",
     "output_type": "stream",
     "text": [
      "iyay ovelay ythonpay\n"
     ]
    }
   ],
   "source": [
    "def pig_latin(a):\n",
    "    output = []\n",
    "    for i, word in enumerate(a.split()):\n",
    "        if word[0] in 'aeiou':\n",
    "            output.append(word[i] + 'yay')\n",
    "        else:\n",
    "            output.append(word[1:] + word[0] + 'ay')\n",
    "    return ' '.join(output)\n",
    "print(pig_latin('i love python'))\n"
   ]
  },
  {
   "cell_type": "code",
   "execution_count": null,
   "id": "f3c21a16",
   "metadata": {},
   "outputs": [],
   "source": []
  }
 ],
 "metadata": {
  "kernelspec": {
   "display_name": "Python 3 (ipykernel)",
   "language": "python",
   "name": "python3"
  },
  "language_info": {
   "codemirror_mode": {
    "name": "ipython",
    "version": 3
   },
   "file_extension": ".py",
   "mimetype": "text/x-python",
   "name": "python",
   "nbconvert_exporter": "python",
   "pygments_lexer": "ipython3",
   "version": "3.9.7"
  }
 },
 "nbformat": 4,
 "nbformat_minor": 5
}
