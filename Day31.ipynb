{
 "cells": [
  {
   "cell_type": "code",
   "execution_count": 2,
   "id": "81455af9",
   "metadata": {},
   "outputs": [
    {
     "name": "stdout",
     "output_type": "stream",
     "text": [
      "[[4, 'java'], [6, 'Python'], [4, 'ruby'], [10, 'javascript']]\n",
      "[10, 'javascript']\n"
     ]
    }
   ],
   "source": [
    "def longest_word(a:list):\n",
    "    b=[]\n",
    "    for word in a:\n",
    "        b.append([len(word),word])\n",
    "    print(b)\n",
    "    return max(b)\n",
    "x=[\"java\",\"Python\",\"ruby\",\"javascript\"]\n",
    "print(longest_word(x))"
   ]
  },
  {
   "cell_type": "code",
   "execution_count": null,
   "id": "64b861e0",
   "metadata": {},
   "outputs": [],
   "source": [
    "def create_user():\n",
    "    dic={}\n",
    "    name=input(\"enter user name \")\n",
    "    age=int(input(\"enter user age \"))\n",
    "    pswd=input(\"set password \")\n",
    "    dic.update({\"name\":name})\n",
    "    dic.update({\"age\":age})\n",
    "    dic.update({\"password\":pswd})\n",
    "    print(\"user saved please login \")\n",
    "    while True:\n",
    "        name1=input(\"Please enter your name \")\n",
    "        pswd1=input(\"enter your passwprd\")\n",
    "        if name1==dic.get('name') and pswd1==dic.get('pswd'):\n",
    "            print(\"Logged in successfuly \")\n",
    "        else:\n",
    "            print(\"wrong username or password please try again \")\n",
    "\n",
    "create_user()\n",
    "\n",
    "    "
   ]
  },
  {
   "cell_type": "code",
   "execution_count": 9,
   "id": "12d9114b",
   "metadata": {},
   "outputs": [
    {
     "name": "stdout",
     "output_type": "stream",
     "text": [
      "Enter your name: dev\n",
      "Enter your age: 100\n",
      "Enter your password: 1111\n",
      "User saved. Please login\n",
      "Please enter your user name to logindev\n",
      "Please enter your password1111\n",
      "Logged in successfully\n"
     ]
    }
   ],
   "source": [
    "def create_user():\n",
    "    d = {} # create an empty dictionary\n",
    "    name = input(\"Enter your name: \")\n",
    "    age = int(input(\"Enter your age: \"))\n",
    "    password = input(\"Enter your password: \")\n",
    " # Updating the dictionary using update method.\n",
    "    d.update({'name': name})\n",
    "    d.update({'age': age})\n",
    "    d.update({'password': password})\n",
    "    print(\"User saved. Please login\")\n",
    " # using while loop to ensure the code runs \n",
    " # until user enters correct login details\n",
    "    while True:\n",
    "        user_name = input(\"Please enter your user name to login\")\n",
    "        password = input(\"Please enter your password\")\n",
    "        if user_name == d.get('name') and password == d.get('password'):\n",
    "            return \"Logged in successfully\"\n",
    "        else:\n",
    "            print('Wrong password or user_name please try again')\n",
    "print(create_user())"
   ]
  },
  {
   "cell_type": "code",
   "execution_count": null,
   "id": "b02365f8",
   "metadata": {},
   "outputs": [],
   "source": [
    "\n",
    "def create_user():\n",
    "    dic={}\n",
    "    name=input(\"enter user name \")\n",
    "    age=int(input(\"enter user age \"))\n",
    "    pswd=input(\"set password \")\n",
    "    dic.update({\"name\":name})\n",
    "    dic.update({\"age\":age})\n",
    "    dic.update({\"password\":pswd})\n",
    "    print(\"user saved please login \")\n",
    "    while True:\n",
    "        name1=input(\"Please enter your name \")\n",
    "        pswd1=input(\"enter your passwprd\")\n",
    "        if name1==dic.get('name') and pswd1==dic.get('pswd'):\n",
    "            print(\"Logged in successfuly \")\n",
    "        else:\n",
    "            print(\"wrong username or password please try again \")\n",
    "\n",
    "create_user()\n",
    "​"
   ]
  }
 ],
 "metadata": {
  "kernelspec": {
   "display_name": "Python 3 (ipykernel)",
   "language": "python",
   "name": "python3"
  },
  "language_info": {
   "codemirror_mode": {
    "name": "ipython",
    "version": 3
   },
   "file_extension": ".py",
   "mimetype": "text/x-python",
   "name": "python",
   "nbconvert_exporter": "python",
   "pygments_lexer": "ipython3",
   "version": "3.9.7"
  }
 },
 "nbformat": 4,
 "nbformat_minor": 5
}
