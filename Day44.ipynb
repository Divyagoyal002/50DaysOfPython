{
 "cells": [
  {
   "cell_type": "code",
   "execution_count": null,
   "id": "75e63056",
   "metadata": {},
   "outputs": [
    {
     "name": "stdout",
     "output_type": "stream",
     "text": [
      "Enter your email: divyasthetics.py@gmail.com\n"
     ]
    }
   ],
   "source": [
    "def save_emails():\n",
    "    w = []\n",
    "    while True:\n",
    "        email = input(\"Enter your email: \")\n",
    "        w.append(email)\n",
    "        if email == 'done':\n",
    "            break\n",
    "        with open('emails1.csv', 'a') as f:\n",
    "            f. write(email)\n",
    "            f .write('\\n')\n",
    "# Second function to read emails\n",
    "def open_emails():\n",
    "    with open('emails1.csv', 'r') as f:\n",
    "        return f.read()\n",
    "save_emails()\n",
    "print(open_emails())\n"
   ]
  },
  {
   "cell_type": "code",
   "execution_count": null,
   "id": "c62e70fe",
   "metadata": {},
   "outputs": [],
   "source": []
  }
 ],
 "metadata": {
  "kernelspec": {
   "display_name": "Python 3 (ipykernel)",
   "language": "python",
   "name": "python3"
  },
  "language_info": {
   "codemirror_mode": {
    "name": "ipython",
    "version": 3
   },
   "file_extension": ".py",
   "mimetype": "text/x-python",
   "name": "python",
   "nbconvert_exporter": "python",
   "pygments_lexer": "ipython3",
   "version": "3.9.7"
  }
 },
 "nbformat": 4,
 "nbformat_minor": 5
}
