{
 "cells": [
  {
   "cell_type": "code",
   "execution_count": 3,
   "id": "11eded63",
   "metadata": {},
   "outputs": [
    {
     "name": "stdout",
     "output_type": "stream",
     "text": [
      "[1, 2, 6, 7]\n"
     ]
    }
   ],
   "source": [
    "def lower(a:str):\n",
    "    l=[]\n",
    "    n=len(a)\n",
    "    for i in range(0,n):\n",
    "        if a[i].islower():\n",
    "            l.append(i)\n",
    "    return l\n",
    "s=\"LovE You\"\n",
    "print(lower(s))"
   ]
  },
  {
   "cell_type": "code",
   "execution_count": 4,
   "id": "5de1390c",
   "metadata": {},
   "outputs": [
    {
     "name": "stdout",
     "output_type": "stream",
     "text": [
      "The largest number is, 9,877,632\n"
     ]
    }
   ],
   "source": [
    "def largest_number(num:list):\n",
    "    list1=[]\n",
    "    n = str(num).strip('[,]').replace(',', '').replace(' ', '')\n",
    "    for i in n:\n",
    "        list1.append(int(i))\n",
    "    list1.sort(reverse=True)\n",
    "    large_number = int(str(list1).strip('[]').replace(',', '').replace(' ', ''))\n",
    "    return 'The largest number is, {:,}'.format(large_number)\n",
    "n = [3, 67, 87, 9, 2]\n",
    "print(largest_number(n))\n"
   ]
  },
  {
   "cell_type": "code",
   "execution_count": null,
   "id": "067e3875",
   "metadata": {},
   "outputs": [],
   "source": []
  }
 ],
 "metadata": {
  "kernelspec": {
   "display_name": "Python 3 (ipykernel)",
   "language": "python",
   "name": "python3"
  },
  "language_info": {
   "codemirror_mode": {
    "name": "ipython",
    "version": 3
   },
   "file_extension": ".py",
   "mimetype": "text/x-python",
   "name": "python",
   "nbconvert_exporter": "python",
   "pygments_lexer": "ipython3",
   "version": "3.9.7"
  }
 },
 "nbformat": 4,
 "nbformat_minor": 5
}
