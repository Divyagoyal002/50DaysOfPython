{
 "cells": [
  {
   "cell_type": "code",
   "execution_count": 1,
   "id": "01e0f8fa",
   "metadata": {},
   "outputs": [
    {
     "name": "stdout",
     "output_type": "stream",
     "text": [
      "enter range of string6\n",
      "0.1.2.3.4.5.6\n"
     ]
    }
   ],
   "source": [
    "n=int(input(\"enter range of string\"))\n",
    "def string_range(n):\n",
    "    for i in range(n):\n",
    "        print(i, end=\".\")\n",
    "    print(n)\n",
    "\n",
    "\n",
    "string_range(n)"
   ]
  },
  {
   "cell_type": "code",
   "execution_count": 5,
   "id": "9281d58f",
   "metadata": {},
   "outputs": [
    {
     "name": "stdout",
     "output_type": "stream",
     "text": [
      "{'Sasha': 1, 'Sera': 2}\n"
     ]
    }
   ],
   "source": [
    "names = [\"Joseph\", \"Nathan\", \"Sasha\", \"Kelly\",\n",
    " \"Muhammad\", \"Jabulani\", \"Sera\", \"Patel\", \"Sera\"]\n",
    "d = {} # Creating an empty dictionary\n",
    "for name in names:\n",
    "    if name.startswith('S'):\n",
    "        d.update({name: names.count(name)})\n",
    "print(d)"
   ]
  },
  {
   "cell_type": "code",
   "execution_count": null,
   "id": "df0eb249",
   "metadata": {},
   "outputs": [],
   "source": []
  }
 ],
 "metadata": {
  "kernelspec": {
   "display_name": "Python 3 (ipykernel)",
   "language": "python",
   "name": "python3"
  },
  "language_info": {
   "codemirror_mode": {
    "name": "ipython",
    "version": 3
   },
   "file_extension": ".py",
   "mimetype": "text/x-python",
   "name": "python",
   "nbconvert_exporter": "python",
   "pygments_lexer": "ipython3",
   "version": "3.9.7"
  }
 },
 "nbformat": 4,
 "nbformat_minor": 5
}
