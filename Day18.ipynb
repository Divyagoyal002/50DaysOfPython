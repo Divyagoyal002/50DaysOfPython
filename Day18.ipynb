{
 "cells": [
  {
   "cell_type": "code",
   "execution_count": 2,
   "id": "db3277fc",
   "metadata": {},
   "outputs": [
    {
     "name": "stdout",
     "output_type": "stream",
     "text": [
      "2.5\n"
     ]
    }
   ],
   "source": [
    "\n",
    "def any_number(list):\n",
    "    sum=0\n",
    "    for i in list:\n",
    "        sum=sum+i\n",
    "    return sum/len(list)\n",
    "print(any_number([1,2,3,4]))\n",
    "    "
   ]
  },
  {
   "cell_type": "code",
   "execution_count": 6,
   "id": "5af47fdb",
   "metadata": {},
   "outputs": [
    {
     "name": "stdout",
     "output_type": "stream",
     "text": [
      "[112, 68, 22]\n"
     ]
    }
   ],
   "source": [
    "def add_reverse(list1:list,list2:list):\n",
    "    list=[]\n",
    "    n=len(list1)\n",
    "    if(len(list1)==len(list2)):\n",
    "        for i in range(0,n):\n",
    "            list.append(list1[i]+list2[i])\n",
    "        list.reverse()\n",
    "        return list\n",
    "    else:\n",
    "        return f'Lists have different lengths'\n",
    "\n",
    "list1 = [10, 12, 34]\n",
    "list2 = [12, 56, 78]\n",
    "print(add_reverse(list1, list2))\n",
    "            "
   ]
  },
  {
   "cell_type": "code",
   "execution_count": 8,
   "id": "f6da9b31",
   "metadata": {},
   "outputs": [
    {
     "name": "stdout",
     "output_type": "stream",
     "text": [
      "The average is 43.0\n"
     ]
    }
   ],
   "source": [
    "def any_num (*args):\n",
    "    ave = sum(args)/len(args)\n",
    "    return f'The average is {ave}'\n",
    "print(any_num(12, 90,40,30))\n"
   ]
  },
  {
   "cell_type": "code",
   "execution_count": null,
   "id": "e18225ca",
   "metadata": {},
   "outputs": [],
   "source": []
  }
 ],
 "metadata": {
  "kernelspec": {
   "display_name": "Python 3 (ipykernel)",
   "language": "python",
   "name": "python3"
  },
  "language_info": {
   "codemirror_mode": {
    "name": "ipython",
    "version": 3
   },
   "file_extension": ".py",
   "mimetype": "text/x-python",
   "name": "python",
   "nbconvert_exporter": "python",
   "pygments_lexer": "ipython3",
   "version": "3.9.7"
  }
 },
 "nbformat": 4,
 "nbformat_minor": 5
}
