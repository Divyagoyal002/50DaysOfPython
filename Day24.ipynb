{
 "cells": [
  {
   "cell_type": "code",
   "execution_count": 5,
   "id": "cae79c55",
   "metadata": {},
   "outputs": [
    {
     "name": "stdout",
     "output_type": "stream",
     "text": [
      "[[1, 2, 3], [4, 5, 6], [7, 8, 9]]\n"
     ]
    }
   ],
   "source": [
    "#extra challenge\n",
    "def nested_list(*args:list):\n",
    "    list=[]\n",
    "    #for i in range(len(args)):\n",
    "    for j in args:\n",
    "        list.append(j)\n",
    "    return list\n",
    "a=[1,2,3]\n",
    "b=[4,5,6]\n",
    "c=[7,8,9]\n",
    "print(nested_list(a,b,c))"
   ]
  },
  {
   "cell_type": "code",
   "execution_count": 6,
   "id": "06cfd821",
   "metadata": {},
   "outputs": [
    {
     "name": "stdout",
     "output_type": "stream",
     "text": [
      "Enter a score or done when quit: 4\n",
      "Enter a score or done when quit: 5\n",
      "Enter a score or done when quit: done\n",
      " Mean of scores is 4.50\n"
     ]
    }
   ],
   "source": [
    "def average_calories():\n",
    "    scores = []\n",
    "    while True:\n",
    "        score = input('Enter a score or done when quit: ')\n",
    "        if score == \"done\":\n",
    "            break\n",
    "        else:\n",
    "            scores.append(int(score))\n",
    "    return f\" Mean of scores is \" \\\n",
    "             f\"{sum(scores) / len(scores):.2f}\"\n",
    "print(average_calories())"
   ]
  },
  {
   "cell_type": "code",
   "execution_count": null,
   "id": "7701286f",
   "metadata": {},
   "outputs": [],
   "source": []
  }
 ],
 "metadata": {
  "kernelspec": {
   "display_name": "Python 3 (ipykernel)",
   "language": "python",
   "name": "python3"
  },
  "language_info": {
   "codemirror_mode": {
    "name": "ipython",
    "version": 3
   },
   "file_extension": ".py",
   "mimetype": "text/x-python",
   "name": "python",
   "nbconvert_exporter": "python",
   "pygments_lexer": "ipython3",
   "version": "3.9.7"
  }
 },
 "nbformat": 4,
 "nbformat_minor": 5
}
