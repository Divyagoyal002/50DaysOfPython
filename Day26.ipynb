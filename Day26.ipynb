{
 "cells": [
  {
   "cell_type": "code",
   "execution_count": 9,
   "id": "d1d2d6f3",
   "metadata": {},
   "outputs": [
    {
     "name": "stdout",
     "output_type": "stream",
     "text": [
      "['e,f,i,l,o,v']\n"
     ]
    }
   ],
   "source": [
    "def sort_words(sentence):\n",
    "    list1 = []\n",
    "    sentence = sentence.replace(' ', '')\n",
    "    for i in sentence:\n",
    "        if i not in list1:\n",
    "            list1.append(i)\n",
    "    list1.sort()\n",
    "    sorted_words = [','.join(list1)]\n",
    "    return sorted_words\n",
    "print(sort_words('love life'))\n"
   ]
  },
  {
   "cell_type": "code",
   "execution_count": 10,
   "id": "9197981b",
   "metadata": {},
   "outputs": [
    {
     "name": "stdout",
     "output_type": "stream",
     "text": [
      "{'good': 4, 'morning': 7, 'babe': 4}\n"
     ]
    }
   ],
   "source": [
    "def string_length(a:str):\n",
    "    list=[]\n",
    "    dic={}\n",
    "    for words in a.split():\n",
    "        list.append(words)\n",
    "    for words in list:\n",
    "        dic.update({words:len(words)})\n",
    "    return dic\n",
    "b=\"good morning babe \"\n",
    "print(string_length(b))\n",
    "    \n",
    "    "
   ]
  },
  {
   "cell_type": "code",
   "execution_count": null,
   "id": "544d4269",
   "metadata": {},
   "outputs": [],
   "source": []
  }
 ],
 "metadata": {
  "kernelspec": {
   "display_name": "Python 3 (ipykernel)",
   "language": "python",
   "name": "python3"
  },
  "language_info": {
   "codemirror_mode": {
    "name": "ipython",
    "version": 3
   },
   "file_extension": ".py",
   "mimetype": "text/x-python",
   "name": "python",
   "nbconvert_exporter": "python",
   "pygments_lexer": "ipython3",
   "version": "3.9.7"
  }
 },
 "nbformat": 4,
 "nbformat_minor": 5
}
