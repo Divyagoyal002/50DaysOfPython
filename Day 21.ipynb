{
 "cells": [
  {
   "cell_type": "code",
   "execution_count": 6,
   "id": "88ba867f",
   "metadata": {},
   "outputs": [
    {
     "name": "stdout",
     "output_type": "stream",
     "text": [
      "[(1, 5), (2, 6), (3, 7), (4, 8)]\n"
     ]
    }
   ],
   "source": [
    "def make_tuples(a,b):\n",
    "    a = zip(a,b)\n",
    "    return list(tuple(a))\n",
    "print(make_tuples([1,2,3,4],[5,6,7,8]))"
   ]
  },
  {
   "cell_type": "code",
   "execution_count": 23,
   "id": "5fe9e5d3",
   "metadata": {},
   "outputs": [
    {
     "data": {
      "text/plain": [
       "5"
      ]
     },
     "execution_count": 23,
     "metadata": {},
     "output_type": "execute_result"
    }
   ],
   "source": [
    "def even_or_average():\n",
    "    even=[]\n",
    "    list=[1,5,9,3,7]\n",
    "    for i in list:\n",
    "        if(i%2==0):\n",
    "            even.append(i)\n",
    "    if(len(even)==0):\n",
    "        return sum(list)//len(list)\n",
    "    print(even())\n",
    "    print(average())\n",
    "even_or_average()"
   ]
  },
  {
   "cell_type": "markdown",
   "id": "dcf02d62",
   "metadata": {},
   "source": [
    "## def even_or_average():\n",
    "    avg_num = []\n",
    "    even_number = []\n",
    " # Using while loop to ensure code keeps running\n",
    "    number=0\n",
    "    while (number!=\"done\"):\n",
    "        number = input(\"Please enter numbers or done: \")\n",
    "        avg_num.append(int(number))\n",
    "        if int(number) % 2 == 0:\n",
    "            even_number.append(number)\n",
    " # Once the user inputs five numbers the code breaks\n",
    "            if len(avg_num) == 5:\n",
    "                break\n",
    "                if len(even_number) > 0: # checking if list empty\n",
    "                    return f'The largest even number: {max(even_number)}'\n",
    "                else:\n",
    "                    return f'The average is : {sum(avg_num) / len(avg_num):.2f}'\n",
    "print(even_or_average())"
   ]
  },
  {
   "cell_type": "code",
   "execution_count": null,
   "id": "06ad227d",
   "metadata": {},
   "outputs": [],
   "source": []
  }
 ],
 "metadata": {
  "kernelspec": {
   "display_name": "Python 3 (ipykernel)",
   "language": "python",
   "name": "python3"
  },
  "language_info": {
   "codemirror_mode": {
    "name": "ipython",
    "version": 3
   },
   "file_extension": ".py",
   "mimetype": "text/x-python",
   "name": "python",
   "nbconvert_exporter": "python",
   "pygments_lexer": "ipython3",
   "version": "3.9.7"
  }
 },
 "nbformat": 4,
 "nbformat_minor": 5
}
