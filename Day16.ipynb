{
 "cells": [
  {
   "cell_type": "markdown",
   "id": "fe43f33a",
   "metadata": {},
   "source": [
    "###### "
   ]
  },
  {
   "cell_type": "code",
   "execution_count": 1,
   "id": "83b7ac74",
   "metadata": {},
   "outputs": [
    {
     "name": "stdout",
     "output_type": "stream",
     "text": [
      "[34, 67, 78]\n"
     ]
    }
   ],
   "source": [
    "nested_list = [[12, 34, 56, 67], [34, 68, 78]]\n",
    "new_list = []\n",
    "# A nested for loop to access the inner list\n",
    "for arr in nested_list:\n",
    "    for num in arr:\n",
    " # Create a list of numbers wanted\n",
    "        if num in [34, 67, 78]:\n",
    " # Checking if number already\n",
    " # exists before appending\n",
    "            if num not in new_list:\n",
    "                new_list.append(num)\n",
    "print(new_list)\n"
   ]
  },
  {
   "cell_type": "code",
   "execution_count": 2,
   "id": "96b98875",
   "metadata": {},
   "outputs": [
    {
     "name": "stdout",
     "output_type": "stream",
     "text": [
      "('The sum is ', 33)\n"
     ]
    }
   ],
   "source": [
    "def sum_list(lst1: list):\n",
    "    counta = 0\n",
    "    for items in lst1:\n",
    "        for i in items:\n",
    "            counta += i\n",
    "    return 'The sum is ', counta\n",
    "print(sum_list([[2, 4, 5, 6], [2, 3, 5, 6]]))"
   ]
  },
  {
   "cell_type": "code",
   "execution_count": null,
   "id": "b9fdd141",
   "metadata": {},
   "outputs": [],
   "source": []
  }
 ],
 "metadata": {
  "kernelspec": {
   "display_name": "Python 3 (ipykernel)",
   "language": "python",
   "name": "python3"
  },
  "language_info": {
   "codemirror_mode": {
    "name": "ipython",
    "version": 3
   },
   "file_extension": ".py",
   "mimetype": "text/x-python",
   "name": "python",
   "nbconvert_exporter": "python",
   "pygments_lexer": "ipython3",
   "version": "3.9.7"
  }
 },
 "nbformat": 4,
 "nbformat_minor": 5
}
