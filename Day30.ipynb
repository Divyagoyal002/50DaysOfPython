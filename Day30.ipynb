{
 "cells": [
  {
   "cell_type": "markdown",
   "id": "86e1d5ac",
   "metadata": {},
   "source": []
  },
  {
   "cell_type": "code",
   "execution_count": 1,
   "id": "d867fe30",
   "metadata": {},
   "outputs": [
    {
     "name": "stdout",
     "output_type": "stream",
     "text": [
      "('Peter', 3)\n"
     ]
    }
   ],
   "source": [
    "from collections import Counter\n",
    "name = [\"John\", \"Peter\", \"John\", \"Peter\", \"Jones\", \"Peter\"]\n",
    "def frequent_name(a):\n",
    "    return max(Counter(a).most_common())\n",
    "print(frequent_name(name))"
   ]
  },
  {
   "cell_type": "code",
   "execution_count": 2,
   "id": "1f7e4ebc",
   "metadata": {},
   "outputs": [
    {
     "name": "stdout",
     "output_type": "stream",
     "text": [
      "['Brown Chris', 'Cruise Tom', 'Keys Alicia', 'Perry Katie', 'knowles Beyonce']\n"
     ]
    }
   ],
   "source": [
    "names = ['Beyonce knowles', 'Alicia Keys',\n",
    " 'Katie Perry', 'Chris Brown', 'Tom Cruise']\n",
    "def sorted_names(list1):\n",
    "    list2 = []\n",
    "    for i in list1:\n",
    "        list2.append(i.split())\n",
    "    list3 = []\n",
    "    x = lambda x: x[-1]\n",
    "    for j in sorted(list2, key=x):\n",
    "        list3.append(' '.join([j[-1], j[0]]))\n",
    "    return list3\n",
    "print(sorted_names(names))\n"
   ]
  },
  {
   "cell_type": "code",
   "execution_count": null,
   "id": "7a372590",
   "metadata": {},
   "outputs": [],
   "source": []
  }
 ],
 "metadata": {
  "kernelspec": {
   "display_name": "Python 3 (ipykernel)",
   "language": "python",
   "name": "python3"
  },
  "language_info": {
   "codemirror_mode": {
    "name": "ipython",
    "version": 3
   },
   "file_extension": ".py",
   "mimetype": "text/x-python",
   "name": "python",
   "nbconvert_exporter": "python",
   "pygments_lexer": "ipython3",
   "version": "3.9.7"
  }
 },
 "nbformat": 4,
 "nbformat_minor": 5
}
