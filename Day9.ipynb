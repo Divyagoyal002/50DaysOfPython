{
 "cells": [
  {
   "cell_type": "code",
   "execution_count": 1,
   "id": "4f990858",
   "metadata": {},
   "outputs": [
    {
     "name": "stdout",
     "output_type": "stream",
     "text": [
      " The biggest old number is 9\n"
     ]
    }
   ],
   "source": [
    "def biggest_odd(string1: str):\n",
    "    odd_nums = [i for i in string1 if int(i) % 2 != 0]\n",
    "    return f' The biggest old number is {max(odd_nums)}'\n",
    "print(biggest_odd('23569'))"
   ]
  },
  {
   "cell_type": "code",
   "execution_count": 6,
   "id": "e4b717a9",
   "metadata": {},
   "outputs": [
    {
     "name": "stdout",
     "output_type": "stream",
     "text": [
      "[1, 4, 6, 7, 0, 0]\n",
      "[1, 2, 4, 6, 7]\n"
     ]
    }
   ],
   "source": [
    "def zeros_last(arr: list) -> list:\n",
    "    i = 0 \n",
    "    arr1 = arr\n",
    "    for num in arr:\n",
    "        if num != 0:\n",
    "            arr[i] = num\n",
    "            i += 1\n",
    "    while i < len(arr):\n",
    "        arr[i] = 0\n",
    "        i += 1\n",
    "        return arr\n",
    "    else:\n",
    "        return sorted(arr1)\n",
    "list1 = [1, 4, 6, 0, 7, 0]\n",
    "list2 = [2, 1, 4, 7, 6]\n",
    "print(zeros_last(list1))\n",
    "print(zeros_last(list2))\n"
   ]
  },
  {
   "cell_type": "code",
   "execution_count": null,
   "id": "11192ce8",
   "metadata": {},
   "outputs": [],
   "source": []
  }
 ],
 "metadata": {
  "kernelspec": {
   "display_name": "Python 3 (ipykernel)",
   "language": "python",
   "name": "python3"
  },
  "language_info": {
   "codemirror_mode": {
    "name": "ipython",
    "version": 3
   },
   "file_extension": ".py",
   "mimetype": "text/x-python",
   "name": "python",
   "nbconvert_exporter": "python",
   "pygments_lexer": "ipython3",
   "version": "3.9.7"
  }
 },
 "nbformat": 4,
 "nbformat_minor": 5
}
