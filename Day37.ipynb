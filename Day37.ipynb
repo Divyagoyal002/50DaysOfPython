{
 "cells": [
  {
   "cell_type": "code",
   "execution_count": 5,
   "id": "51beba45",
   "metadata": {},
   "outputs": [
    {
     "name": "stdout",
     "output_type": "stream",
     "text": [
      "Enter your stringedcguythaehjllohb\n",
      "The string is: edcguythaehjllohb\n",
      "The vowels are : ['e', 'u', 'a', 'e', 'o']\n",
      "length of vowels are: 5\n"
     ]
    }
   ],
   "source": [
    "def count_vowels(string:str):\n",
    "    vow=[]\n",
    "    for i in string :\n",
    "        if i in \"AEIOUaeiou\":\n",
    "            vow.append(i)\n",
    "    return vow\n",
    "string=input(\"Enter your string\")\n",
    "print(\"The string is:\", string)\n",
    "print(\"The vowels are :\",count_vowels(string))\n",
    "print(\"length of vowels are:\", len(count_vowels(string)))"
   ]
  },
  {
   "cell_type": "code",
   "execution_count": null,
   "id": "f066175b",
   "metadata": {},
   "outputs": [],
   "source": []
  },
  {
   "cell_type": "code",
   "execution_count": null,
   "id": "322cd1cc",
   "metadata": {},
   "outputs": [],
   "source": []
  }
 ],
 "metadata": {
  "kernelspec": {
   "display_name": "Python 3 (ipykernel)",
   "language": "python",
   "name": "python3"
  },
  "language_info": {
   "codemirror_mode": {
    "name": "ipython",
    "version": 3
   },
   "file_extension": ".py",
   "mimetype": "text/x-python",
   "name": "python",
   "nbconvert_exporter": "python",
   "pygments_lexer": "ipython3",
   "version": "3.9.7"
  }
 },
 "nbformat": 4,
 "nbformat_minor": 5
}
