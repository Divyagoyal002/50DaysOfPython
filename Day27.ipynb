{
 "cells": [
  {
   "cell_type": "code",
   "execution_count": 4,
   "id": "83ec1060",
   "metadata": {},
   "outputs": [
    {
     "name": "stdout",
     "output_type": "stream",
     "text": [
      "[1, 2, 3, 5]\n"
     ]
    }
   ],
   "source": [
    "def unique_numbers(a:list):\n",
    "    b=[]\n",
    "    for i in a:\n",
    "        if i not in b:\n",
    "            b.append(i)\n",
    "    d=sum(a)-sum(b)\n",
    "    if(d%2==0):\n",
    "        return a\n",
    "    else:\n",
    "        return b\n",
    "z=[1,2,3,1,2,5]\n",
    "print(unique_numbers(z))\n",
    "#dry run\n",
    "#sum(a)=14\n",
    "#sum(b)=11\n",
    "#d=3"
   ]
  },
  {
   "cell_type": "code",
   "execution_count": 7,
   "id": "06302dd1",
   "metadata": {},
   "outputs": [
    {
     "name": "stdout",
     "output_type": "stream",
     "text": [
      "[3, 67, 2, 4, 7]\n"
     ]
    }
   ],
   "source": [
    "def difference(a:list,b:list):\n",
    "    list1=[i for i in a if i not in b ]\n",
    "    list2=[j for j in b if j not in a]\n",
    "    return list1+list2\n",
    "x=[1,3,5,67]\n",
    "y=[1,2,4,5,7]\n",
    "print(difference(x,y))"
   ]
  },
  {
   "cell_type": "code",
   "execution_count": null,
   "id": "387ddd97",
   "metadata": {},
   "outputs": [],
   "source": []
  }
 ],
 "metadata": {
  "kernelspec": {
   "display_name": "Python 3 (ipykernel)",
   "language": "python",
   "name": "python3"
  },
  "language_info": {
   "codemirror_mode": {
    "name": "ipython",
    "version": 3
   },
   "file_extension": ".py",
   "mimetype": "text/x-python",
   "name": "python",
   "nbconvert_exporter": "python",
   "pygments_lexer": "ipython3",
   "version": "3.9.7"
  }
 },
 "nbformat": 4,
 "nbformat_minor": 5
}
