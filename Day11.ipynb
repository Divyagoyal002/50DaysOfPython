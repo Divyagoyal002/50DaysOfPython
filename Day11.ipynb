{
 "cells": [
  {
   "cell_type": "code",
   "execution_count": 3,
   "id": "c0ebe58a",
   "metadata": {},
   "outputs": [
    {
     "name": "stdout",
     "output_type": "stream",
     "text": [
      "enter string 1love\n",
      "enter string 1evol\n",
      "True\n"
     ]
    }
   ],
   "source": [
    "s1=input(\"enter string 1\")\n",
    "s2=input(\"enter string 1\")\n",
    "def compare_string(s1,s2):\n",
    "    a=sorted(s1)\n",
    "    b=sorted(s2)\n",
    "    if a==b:\n",
    "        return True\n",
    "    else : \n",
    "        return False\n",
    "print(compare_string(s1,s2))"
   ]
  },
  {
   "cell_type": "code",
   "execution_count": 10,
   "id": "a7146a24",
   "metadata": {},
   "outputs": [
    {
     "name": "stdout",
     "output_type": "stream",
     "text": [
      "[21, 4, 5, 7, 11, 2]\n"
     ]
    }
   ],
   "source": [
    "list=[2,4,5,7,11,21]\n",
    "def swap_values(list):\n",
    "    n=len(list)\n",
    "    temp=list[0]\n",
    "    list[0]=list[n-1]\n",
    "    list[n-1]=temp\n",
    "    return list\n",
    "print(swap_values(list))"
   ]
  },
  {
   "cell_type": "code",
   "execution_count": null,
   "id": "7815d28d",
   "metadata": {},
   "outputs": [],
   "source": [
    "ef swap_values(arr: list):\n",
    " # Create a variable for first number\n",
    " first_number = arr[0]\n",
    " # Create a second variable for the last number\n",
    " last_number = arr[-1]\n",
    " # assign last number to index 1\n",
    " arr[0] = last_number\n",
    " # assign first number to index -1\n",
    " arr[-1] = first_number\n",
    " return arr\n",
    "list1 = [2, 4, 67, 7]\n",
    "print(swap_values(list1))\n"
   ]
  }
 ],
 "metadata": {
  "kernelspec": {
   "display_name": "Python 3 (ipykernel)",
   "language": "python",
   "name": "python3"
  },
  "language_info": {
   "codemirror_mode": {
    "name": "ipython",
    "version": 3
   },
   "file_extension": ".py",
   "mimetype": "text/x-python",
   "name": "python",
   "nbconvert_exporter": "python",
   "pygments_lexer": "ipython3",
   "version": "3.9.7"
  }
 },
 "nbformat": 4,
 "nbformat_minor": 5
}
