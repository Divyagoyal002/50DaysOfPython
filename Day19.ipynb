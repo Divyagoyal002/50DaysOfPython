{
 "cells": [
  {
   "cell_type": "code",
   "execution_count": 3,
   "id": "2c71ed91",
   "metadata": {},
   "outputs": [
    {
     "name": "stdout",
     "output_type": "stream",
     "text": [
      "4\n",
      "14\n"
     ]
    }
   ],
   "source": [
    "def count_words(string: str ):\n",
    "    words=[]\n",
    "    for i in string.split():\n",
    "        words.append(i)\n",
    "    print(len(words))\n",
    "def count_elements(string:str):\n",
    "    words=[]\n",
    "    sum=0\n",
    "    for i in string.split():\n",
    "        sum=sum+len(i)\n",
    "    print(sum)\n",
    "string=\"how are you doing\"\n",
    "count_words(string)\n",
    "count_elements(string)"
   ]
  },
  {
   "cell_type": "code",
   "execution_count": null,
   "id": "2e9130da",
   "metadata": {},
   "outputs": [],
   "source": []
  }
 ],
 "metadata": {
  "kernelspec": {
   "display_name": "Python 3 (ipykernel)",
   "language": "python",
   "name": "python3"
  },
  "language_info": {
   "codemirror_mode": {
    "name": "ipython",
    "version": 3
   },
   "file_extension": ".py",
   "mimetype": "text/x-python",
   "name": "python",
   "nbconvert_exporter": "python",
   "pygments_lexer": "ipython3",
   "version": "3.9.7"
  }
 },
 "nbformat": 4,
 "nbformat_minor": 5
}
