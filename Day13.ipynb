{
 "cells": [
  {
   "cell_type": "code",
   "execution_count": 2,
   "id": "f9982302",
   "metadata": {},
   "outputs": [
    {
     "name": "stdout",
     "output_type": "stream",
     "text": [
      "enter value of item200\n",
      "percentage10\n",
      "220.00000000000003\n"
     ]
    }
   ],
   "source": [
    "def your_vat():\n",
    "    value=int(input(\"enter value of item\"))\n",
    "    vat=int(input(\"percentage\"))\n",
    "    while value>0:\n",
    "              return value*(1+vat/100)\n",
    "print(your_vat())"
   ]
  },
  {
   "cell_type": "code",
   "execution_count": 3,
   "id": "098d53a2",
   "metadata": {},
   "outputs": [
    {
     "name": "stdout",
     "output_type": "stream",
     "text": [
      "Collecting emoji\n",
      "  Downloading emoji-2.2.0.tar.gz (240 kB)\n",
      "Building wheels for collected packages: emoji\n",
      "  Building wheel for emoji (setup.py): started\n",
      "  Building wheel for emoji (setup.py): finished with status 'done'\n",
      "  Created wheel for emoji: filename=emoji-2.2.0-py3-none-any.whl size=234925 sha256=28594977dde5a2fbcf43d0f91545f9e7fef37981b3cac2cb7bc96492a7f6e802\n",
      "  Stored in directory: c:\\users\\dell\\appdata\\local\\pip\\cache\\wheels\\9a\\b8\\0f\\f580817231cbf59f6ade9fd132ff60ada1de9f7dc85521f857\n",
      "Successfully built emoji\n",
      "Installing collected packages: emoji\n",
      "Successfully installed emoji-2.2.0\n",
      "Note: you may need to restart the kernel to use updated packages.\n"
     ]
    }
   ],
   "source": [
    "pip install emoji\n"
   ]
  },
  {
   "cell_type": "code",
   "execution_count": 9,
   "id": "5455148b",
   "metadata": {},
   "outputs": [
    {
     "name": "stdout",
     "output_type": "stream",
     "text": [
      "enter number of rows7\n",
      "       🐍 \n",
      "      🐍  🐍 \n",
      "     🐍  🐍  🐍 \n",
      "    🐍  🐍  🐍  🐍 \n",
      "   🐍  🐍  🐍  🐍  🐍 \n",
      "  🐍  🐍  🐍  🐍  🐍  🐍 \n"
     ]
    }
   ],
   "source": [
    "import emoji\n",
    "n=int(input(\"enter number of rows\"))\n",
    "def python_snakes(n):\n",
    "    for i in range(1,n):\n",
    "        for j in range(0,n-1):\n",
    "            print(end=\" \")\n",
    "        n=n-1\n",
    "        for j in range(1,i+1):\n",
    "            print(end=\" 🐍 \")\n",
    "        print(\"\\r\")\n",
    "python_snakes(n)"
   ]
  },
  {
   "cell_type": "code",
   "execution_count": 3,
   "id": "f8cd4ade",
   "metadata": {},
   "outputs": [
    {
     "name": "stdout",
     "output_type": "stream",
     "text": [
      "       \n",
      "\n",
      "      🐍 \n",
      "\n",
      "     🐍 🐍 \n",
      "\n",
      "    🐍 🐍 🐍 \n",
      "\n",
      "   🐍 🐍 🐍 🐍 \n",
      "\n",
      "  🐍 🐍 🐍 🐍 🐍 \n",
      "\n",
      " 🐍 🐍 🐍 🐍 🐍 🐍 \n",
      "\n"
     ]
    }
   ],
   "source": [
    "from emoji import emojize\n",
    "def Python_snakes(n: int):\n",
    " # the loop to determine the number of rows of the pyramid\n",
    "    for i in range(0, n):\n",
    " # The loop that determines number of columns\n",
    "        for j in range(n, i, -1):\n",
    " # print space between the snake signs\n",
    "            print(end=\" \")\n",
    "        for k in range(0, i):\n",
    " # printing the snake emoji\n",
    "            print(emojize(':snake:'), end=\" \")\n",
    "        print(\"\\n\")\n",
    "Python_snakes(7)"
   ]
  },
  {
   "cell_type": "code",
   "execution_count": null,
   "id": "aaef036f",
   "metadata": {},
   "outputs": [],
   "source": []
  }
 ],
 "metadata": {
  "kernelspec": {
   "display_name": "Python 3 (ipykernel)",
   "language": "python",
   "name": "python3"
  },
  "language_info": {
   "codemirror_mode": {
    "name": "ipython",
    "version": 3
   },
   "file_extension": ".py",
   "mimetype": "text/x-python",
   "name": "python",
   "nbconvert_exporter": "python",
   "pygments_lexer": "ipython3",
   "version": "3.9.7"
  }
 },
 "nbformat": 4,
 "nbformat_minor": 5
}
