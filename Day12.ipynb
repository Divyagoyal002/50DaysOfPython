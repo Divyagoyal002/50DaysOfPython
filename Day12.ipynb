{
 "cells": [
  {
   "cell_type": "code",
   "execution_count": 2,
   "id": "f2b5b1c4",
   "metadata": {},
   "outputs": [
    {
     "name": "stdout",
     "output_type": "stream",
     "text": [
      "Enter a dot separated string: d.ib.c.kkkk\n",
      "3\n"
     ]
    }
   ],
   "source": [
    "string=input(\"Enter a dot separated string: \")\n",
    "def count_dot(string):\n",
    "    c=0\n",
    "    for i in string:\n",
    "        if i==\".\":\n",
    "            c=c+1\n",
    "    return c\n",
    "print(count_dot(string))"
   ]
  },
  {
   "cell_type": "code",
   "execution_count": null,
   "id": "0501db68",
   "metadata": {},
   "outputs": [],
   "source": [
    "from datetime import datetime\n",
    "def your_age():\n",
    "    while True:\n",
    "        birth_year = input('Enter your year of birth: ')\n",
    "        if len(birth_year) != 4:\n",
    "            print('Please enter a four digits year')\n",
    "        elif int(birth_year) < 1900 or int(birth_year) > 2022:\n",
    "            print('Please enter a valid year')\n",
    "        else:\n",
    "            now1 = int(datetime.now().strftime(\"%Y\"))\n",
    "            age = (now1 - int(birth_year)) * 525600\n",
    "    return f'You are {age:,} minutes old.'\n",
    "print(your_age())"
   ]
  },
  {
   "cell_type": "code",
   "execution_count": null,
   "id": "169c7f1d",
   "metadata": {},
   "outputs": [],
   "source": []
  }
 ],
 "metadata": {
  "kernelspec": {
   "display_name": "Python 3 (ipykernel)",
   "language": "python",
   "name": "python3"
  },
  "language_info": {
   "codemirror_mode": {
    "name": "ipython",
    "version": 3
   },
   "file_extension": ".py",
   "mimetype": "text/x-python",
   "name": "python",
   "nbconvert_exporter": "python",
   "pygments_lexer": "ipython3",
   "version": "3.9.7"
  }
 },
 "nbformat": 4,
 "nbformat_minor": 5
}
