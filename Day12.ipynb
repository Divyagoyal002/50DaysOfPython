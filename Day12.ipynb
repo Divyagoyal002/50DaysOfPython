{
 "cells": [
  {
   "cell_type": "code",
   "execution_count": 3,
   "id": "844168be",
   "metadata": {},
   "outputs": [
    {
     "name": "stdout",
     "output_type": "stream",
     "text": [
      "Enter a dot separated string: g.j.kl.l.ddd\n",
      "4\n"
     ]
    }
   ],
   "source": [
    "string=input(\"Enter a dot separated string: \")\n",
    "def count_dot(string):\n",
    "    c=0\n",
    "    for i in string:\n",
    "        if i==\".\":\n",
    "            c=c+1\n",
    "    return c\n",
    "print(count_dot(string))"
   ]
  },
  {
   "cell_type": "code",
   "execution_count": 8,
   "id": "b41d44f1",
   "metadata": {},
   "outputs": [
    {
     "ename": "NameError",
     "evalue": "name 'YOB' is not defined",
     "output_type": "error",
     "traceback": [
      "\u001b[1;31m---------------------------------------------------------------------------\u001b[0m",
      "\u001b[1;31mNameError\u001b[0m                                 Traceback (most recent call last)",
      "\u001b[1;32m~\\AppData\\Local\\Temp/ipykernel_13200/3481021936.py\u001b[0m in \u001b[0;36m<module>\u001b[1;34m\u001b[0m\n\u001b[0;32m     13\u001b[0m     \u001b[1;32mreturn\u001b[0m \u001b[0mmin\u001b[0m\u001b[1;33m\u001b[0m\u001b[1;33m\u001b[0m\u001b[0m\n\u001b[0;32m     14\u001b[0m \u001b[1;33m\u001b[0m\u001b[0m\n\u001b[1;32m---> 15\u001b[1;33m \u001b[0mprint\u001b[0m\u001b[1;33m(\u001b[0m\u001b[0mage_in_minutes\u001b[0m\u001b[1;33m(\u001b[0m\u001b[0mYOB\u001b[0m\u001b[1;33m)\u001b[0m\u001b[1;33m)\u001b[0m\u001b[1;33m\u001b[0m\u001b[1;33m\u001b[0m\u001b[0m\n\u001b[0m",
      "\u001b[1;31mNameError\u001b[0m: name 'YOB' is not defined"
     ]
    }
   ],
   "source": [
    "def input():\n",
    "    YOB=input(\"Enter a 4-digit year of birth.\")\n",
    "    return YOB\n",
    "def age_in_minutes(YOB):\n",
    "    if YOB<1990:\n",
    "        print(\"Invalid YOB\")\n",
    "        input()\n",
    "    elif YOB>2022:\n",
    "        print(\"Enter valid year of birth\")\n",
    "        input()\n",
    "    else :\n",
    "        min=(2022-YOB)*365*24*60\n",
    "    return min    \n",
    "        \n",
    "print(age_in_minutes(YOB))"
   ]
  },
  {
   "cell_type": "code",
   "execution_count": null,
   "id": "30ca5760",
   "metadata": {},
   "outputs": [],
   "source": []
  }
 ],
 "metadata": {
  "kernelspec": {
   "display_name": "Python 3 (ipykernel)",
   "language": "python",
   "name": "python3"
  },
  "language_info": {
   "codemirror_mode": {
    "name": "ipython",
    "version": 3
   },
   "file_extension": ".py",
   "mimetype": "text/x-python",
   "name": "python",
   "nbconvert_exporter": "python",
   "pygments_lexer": "ipython3",
   "version": "3.9.7"
  }
 },
 "nbformat": 4,
 "nbformat_minor": 5
}
