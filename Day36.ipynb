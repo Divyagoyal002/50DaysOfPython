{
 "cells": [
  {
   "cell_type": "code",
   "execution_count": 5,
   "id": "b0b4e6ae",
   "metadata": {},
   "outputs": [
    {
     "name": "stdout",
     "output_type": "stream",
     "text": [
      "Enter your stringhello good morning everyne\n",
      "{'h': 1, 'e': 4, 'l': 2, 'o': 4, ' ': 3, 'g': 2, 'd': 1, 'm': 1, 'r': 2, 'n': 3, 'i': 1, 'v': 1, 'y': 1}\n"
     ]
    }
   ],
   "source": [
    "def count(a):\n",
    "    dic = {}\n",
    "    for i in range(len(a)):\n",
    "        x = a[i]\n",
    "        count = 0\n",
    "        for j in range(i, len(a)):\n",
    "            if a[j] == a[i]:\n",
    "                count = count + 1\n",
    "        countz = dict({x: count})\n",
    " # updating the dictionary\n",
    "        if x not in dic.keys():\n",
    "            dic.update(countz)\n",
    "    return dic\n",
    "string=input(\"Enter your string\")\n",
    "print(count(string))\n",
    "\n",
    "        "
   ]
  },
  {
   "cell_type": "code",
   "execution_count": null,
   "id": "cdff9edb",
   "metadata": {},
   "outputs": [],
   "source": []
  }
 ],
 "metadata": {
  "kernelspec": {
   "display_name": "Python 3 (ipykernel)",
   "language": "python",
   "name": "python3"
  },
  "language_info": {
   "codemirror_mode": {
    "name": "ipython",
    "version": 3
   },
   "file_extension": ".py",
   "mimetype": "text/x-python",
   "name": "python",
   "nbconvert_exporter": "python",
   "pygments_lexer": "ipython3",
   "version": "3.9.7"
  }
 },
 "nbformat": 4,
 "nbformat_minor": 5
}
