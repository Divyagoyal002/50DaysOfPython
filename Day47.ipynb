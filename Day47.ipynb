{
 "cells": [
  {
   "cell_type": "code",
   "execution_count": 1,
   "id": "e6fadd20",
   "metadata": {},
   "outputs": [
    {
     "name": "stdout",
     "output_type": "stream",
     "text": [
      "{'name': 'Carol', 'sex': 'female', 'age': 55}\n"
     ]
    }
   ],
   "source": [
    "import json\n",
    "names = {'name': 'Carol','sex': 'female','age': 55}\n",
    "\n",
    "def save_json(dict1):\n",
    "    with open('file.json', 'w') as my_file:\n",
    "        \n",
    "        json.dump(dict1, my_file, indent=4)\n",
    "\n",
    "save_json(names)\n",
    "\n",
    "def read_json():\n",
    "    with open('file.json', 'r') as my_file:\n",
    "        json_file = json.load(my_file)\n",
    "    return json_file\n",
    "print(read_json())\n"
   ]
  },
  {
   "cell_type": "code",
   "execution_count": null,
   "id": "e9b403d1",
   "metadata": {},
   "outputs": [],
   "source": []
  }
 ],
 "metadata": {
  "kernelspec": {
   "display_name": "Python 3 (ipykernel)",
   "language": "python",
   "name": "python3"
  },
  "language_info": {
   "codemirror_mode": {
    "name": "ipython",
    "version": 3
   },
   "file_extension": ".py",
   "mimetype": "text/x-python",
   "name": "python",
   "nbconvert_exporter": "python",
   "pygments_lexer": "ipython3",
   "version": "3.9.7"
  }
 },
 "nbformat": 4,
 "nbformat_minor": 5
}
