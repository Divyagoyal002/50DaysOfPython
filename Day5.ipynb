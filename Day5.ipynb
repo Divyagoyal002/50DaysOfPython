{
 "cells": [
  {
   "cell_type": "code",
   "execution_count": 6,
   "id": "a756b43e",
   "metadata": {},
   "outputs": [
    {
     "name": "stdout",
     "output_type": "stream",
     "text": [
      "enter the price280\n",
      "Enter the discount16\n",
      "price after discount 235.2\n"
     ]
    }
   ],
   "source": [
    "m=int(input(\"enter the price\"))\n",
    "d=int(input(\"Enter the discount\"))\n",
    "def my_discount(m,d):\n",
    "        return (m-m*(d/100))\n",
    "FPrice=my_discount(m,d)\n",
    "print(\"price after discount\",FPrice)"
   ]
  },
  {
   "cell_type": "code",
   "execution_count": 14,
   "id": "553f193e",
   "metadata": {},
   "outputs": [
    {
     "name": "stdout",
     "output_type": "stream",
     "text": [
      "[('Male', 7), ('Female', 6)]\n"
     ]
    }
   ],
   "source": [
    "#output[(‘Male’,7), (‘female’,6)]\n",
    "Tuple=[]\n",
    "students = ['Male', 'Female', 'female', 'male', 'male', 'male',\n",
    " 'female', 'male', 'Female', 'Male', 'Female', 'Male', 'female']\n",
    "m=0\n",
    "f=0\n",
    "for i in students:\n",
    "    if i=='male' or i=='Male':\n",
    "        m+=1\n",
    "    elif i=='female' or i=='Female':\n",
    "        f+=1\n",
    "Male=('Male',m)\n",
    "Female=('Female',f)\n",
    "Tuple.append(Male)\n",
    "Tuple.append(Female)\n",
    "print(Tuple)\n"
   ]
  },
  {
   "cell_type": "code",
   "execution_count": null,
   "id": "ef044795",
   "metadata": {},
   "outputs": [],
   "source": []
  }
 ],
 "metadata": {
  "kernelspec": {
   "display_name": "Python 3 (ipykernel)",
   "language": "python",
   "name": "python3"
  },
  "language_info": {
   "codemirror_mode": {
    "name": "ipython",
    "version": 3
   },
   "file_extension": ".py",
   "mimetype": "text/x-python",
   "name": "python",
   "nbconvert_exporter": "python",
   "pygments_lexer": "ipython3",
   "version": "3.9.7"
  }
 },
 "nbformat": 4,
 "nbformat_minor": 5
}
