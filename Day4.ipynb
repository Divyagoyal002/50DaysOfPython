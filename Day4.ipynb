{
 "cells": [
  {
   "cell_type": "code",
   "execution_count": 1,
   "id": "5a4b74c0",
   "metadata": {},
   "outputs": [
    {
     "name": "stdout",
     "output_type": "stream",
     "text": [
      "1\n"
     ]
    }
   ],
   "source": [
    "def check_float(a,b):\n",
    "    if type(a)==float and type(b)==float:\n",
    "        return 2\n",
    "    elif type(a)==float or type(b)==float:\n",
    "        return 1\n",
    "    else :\n",
    "        return 0\n",
    "result=check_float(12.1, 23)\n",
    "print(result)"
   ]
  },
  {
   "cell_type": "code",
   "execution_count": 12,
   "id": "218ddaff",
   "metadata": {},
   "outputs": [
    {
     "name": "stdout",
     "output_type": "stream",
     "text": [
      "index of longest string in list is  2\n",
      "index of longest string in words is  0\n",
      "index of longest string in lang is  5\n"
     ]
    }
   ],
   "source": [
    "list=['apple','mango','banana','divya']\n",
    "words=['love','hate']\n",
    "lang=['c','python','java','django','R','javascript','html','css']\n",
    "def word_index(list):\n",
    "    max=list[0]\n",
    "    count=0\n",
    "    for i in list:\n",
    "        if len(i)>len(max):\n",
    "            max=i\n",
    "        elif len(i)==len(max):\n",
    "            count+=1\n",
    "        if count==len(list):\n",
    "            return 0\n",
    "    return list.index(max)\n",
    "\n",
    "\n",
    "\n",
    "print('index of longest string in list is ',word_index(list))\n",
    "print('index of longest string in words is ',word_index(words))\n",
    "print('index of longest string in lang is ',word_index(lang))"
   ]
  },
  {
   "cell_type": "code",
   "execution_count": null,
   "id": "0206d7c3",
   "metadata": {},
   "outputs": [],
   "source": []
  }
 ],
 "metadata": {
  "kernelspec": {
   "display_name": "Python 3 (ipykernel)",
   "language": "python",
   "name": "python3"
  },
  "language_info": {
   "codemirror_mode": {
    "name": "ipython",
    "version": 3
   },
   "file_extension": ".py",
   "mimetype": "text/x-python",
   "name": "python",
   "nbconvert_exporter": "python",
   "pygments_lexer": "ipython3",
   "version": "3.9.7"
  }
 },
 "nbformat": 4,
 "nbformat_minor": 5
}
