{
 "cells": [
  {
   "cell_type": "code",
   "execution_count": 4,
   "id": "d0172498",
   "metadata": {},
   "outputs": [
    {
     "name": "stdout",
     "output_type": "stream",
     "text": [
      "a\n"
     ]
    }
   ],
   "source": [
    "def middle_figure(a:str,b:str):\n",
    "    c=a+b\n",
    "    c.replace(' ','')\n",
    "    n=len(c)\n",
    "    if(n%2==0):\n",
    "        return \"no middle figure\"\n",
    "    else:\n",
    "        return c[n//2]\n",
    "x=\"make love and\"\n",
    "y=\"not wars\"\n",
    "print(middle_figure(x,y))"
   ]
  },
  {
   "cell_type": "code",
   "execution_count": null,
   "id": "2a1c6d58",
   "metadata": {},
   "outputs": [],
   "source": []
  }
 ],
 "metadata": {
  "kernelspec": {
   "display_name": "Python 3 (ipykernel)",
   "language": "python",
   "name": "python3"
  },
  "language_info": {
   "codemirror_mode": {
    "name": "ipython",
    "version": 3
   },
   "file_extension": ".py",
   "mimetype": "text/x-python",
   "name": "python",
   "nbconvert_exporter": "python",
   "pygments_lexer": "ipython3",
   "version": "3.9.7"
  }
 },
 "nbformat": 4,
 "nbformat_minor": 5
}
