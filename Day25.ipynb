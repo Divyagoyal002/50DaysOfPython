{
 "cells": [
  {
   "cell_type": "code",
   "execution_count": 5,
   "id": "7f5f62bc",
   "metadata": {},
   "outputs": [
    {
     "name": "stdout",
     "output_type": "stream",
     "text": [
      "True\n"
     ]
    }
   ],
   "source": [
    "def all_the_same(a):\n",
    "    a=all(i==a[0] for i in a)\n",
    "    return a\n",
    "print(all_the_same([\"div\",\"div\",\"div\"]))"
   ]
  },
  {
   "cell_type": "code",
   "execution_count": 10,
   "id": "13d56536",
   "metadata": {},
   "outputs": [
    {
     "name": "stdout",
     "output_type": "stream",
     "text": [
      "real is love the\n"
     ]
    }
   ],
   "source": [
    "str1 = \"the love is real\"\n",
    "def read_backwards(string:str):\n",
    "    list=[]\n",
    "    for word in string.split()[::-1]:\n",
    "        list.append(word)\n",
    "    return ' '.join(list)\n",
    "print(read_backwards(str1))\n",
    "    "
   ]
  },
  {
   "cell_type": "code",
   "execution_count": null,
   "id": "c8c584d1",
   "metadata": {},
   "outputs": [],
   "source": []
  }
 ],
 "metadata": {
  "kernelspec": {
   "display_name": "Python 3 (ipykernel)",
   "language": "python",
   "name": "python3"
  },
  "language_info": {
   "codemirror_mode": {
    "name": "ipython",
    "version": 3
   },
   "file_extension": ".py",
   "mimetype": "text/x-python",
   "name": "python",
   "nbconvert_exporter": "python",
   "pygments_lexer": "ipython3",
   "version": "3.9.7"
  }
 },
 "nbformat": 4,
 "nbformat_minor": 5
}
