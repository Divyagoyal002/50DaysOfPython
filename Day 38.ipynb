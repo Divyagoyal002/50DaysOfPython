{
 "cells": [
  {
   "cell_type": "code",
   "execution_count": 3,
   "id": "42a04119",
   "metadata": {},
   "outputs": [],
   "source": [
    "from random import randrange"
   ]
  },
  {
   "cell_type": "code",
   "execution_count": 6,
   "id": "38cabc89",
   "metadata": {},
   "outputs": [],
   "source": [
    "import random"
   ]
  },
  {
   "cell_type": "code",
   "execution_count": 13,
   "id": "2b39f98e",
   "metadata": {},
   "outputs": [
    {
     "name": "stdout",
     "output_type": "stream",
     "text": [
      "Guess the number between 0 to 10: 4\n",
      "Your guess is too low\n",
      "Guess the number between 0 to 10: 7\n",
      "Your guess is too high\n",
      "Guess the number between 0 to 10: 5\n",
      "Your guess is too low\n",
      "Guess the number between 0 to 10: 6\n",
      "You have run out of guesses\n"
     ]
    }
   ],
   "source": [
    "num=random.randrange(0,10)\n",
    "def guess():\n",
    "    c=0\n",
    "    while c<4:\n",
    "        guess_num=int(input(\"Guess the number between 0 to 10: \"))\n",
    "        c=c+1\n",
    "        if c>3:\n",
    "            print(\"You have run out of guesses\")\n",
    "            break\n",
    "        elif guess_num>num:\n",
    "            print(\"Your guess is too high\")\n",
    "        elif guess_num<num:\n",
    "            print(\"Your guess is too low\")\n",
    "        else:\n",
    "            print(\"You win\")\n",
    "            break\n",
    "guess()"
   ]
  },
  {
   "cell_type": "markdown",
   "id": "6d3626e4",
   "metadata": {},
   "source": [
    "## Find Missing Number"
   ]
  },
  {
   "cell_type": "code",
   "execution_count": 14,
   "id": "50563fa5",
   "metadata": {},
   "outputs": [
    {
     "name": "stdout",
     "output_type": "stream",
     "text": [
      "[4, 8, 10, 13, 16, 29, 30]\n"
     ]
    }
   ],
   "source": [
    "list3 = [1, 2, 3, 5, 6, 7, 9, 11, 12, 23, 14, 15, 17,\n",
    " 18, 19, 20, 21, 22, 24, 25, 26, 27, 28, 31]\n",
    "def missing_numbers(arr: list) -> list:\n",
    "    missing_numz = []\n",
    "    for i in range(arr[0], arr[-1] + 1):\n",
    "        if i not in arr:\n",
    "            missing_numz.append(i)\n",
    "    return missing_numz\n",
    "print(missing_numbers(list3))\n"
   ]
  },
  {
   "cell_type": "code",
   "execution_count": null,
   "id": "24b25d3f",
   "metadata": {},
   "outputs": [],
   "source": []
  }
 ],
 "metadata": {
  "kernelspec": {
   "display_name": "Python 3 (ipykernel)",
   "language": "python",
   "name": "python3"
  },
  "language_info": {
   "codemirror_mode": {
    "name": "ipython",
    "version": 3
   },
   "file_extension": ".py",
   "mimetype": "text/x-python",
   "name": "python",
   "nbconvert_exporter": "python",
   "pygments_lexer": "ipython3",
   "version": "3.9.7"
  }
 },
 "nbformat": 4,
 "nbformat_minor": 5
}
