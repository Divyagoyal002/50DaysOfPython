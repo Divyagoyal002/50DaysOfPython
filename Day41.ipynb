{
 "cells": [
  {
   "cell_type": "code",
   "execution_count": 1,
   "id": "9d81a1af",
   "metadata": {},
   "outputs": [
    {
     "name": "stdout",
     "output_type": "stream",
     "text": [
      "['You', 'have', 'no']\n"
     ]
    }
   ],
   "source": [
    "def vowels_count(a):\n",
    "    vowels = []\n",
    "    for word in a.split():\n",
    "        for i in word:\n",
    "            if i in 'aeiou':\n",
    "                if word not in vowels:\n",
    "                    vowels.append(word)\n",
    "    return vowels\n",
    "print(vowels_count('You have no rhythm'))"
   ]
  },
  {
   "cell_type": "code",
   "execution_count": 2,
   "id": "e7c40573",
   "metadata": {},
   "outputs": [
    {
     "ename": "NameError",
     "evalue": "name 'Cars' is not defined",
     "output_type": "error",
     "traceback": [
      "\u001b[1;31m---------------------------------------------------------------------------\u001b[0m",
      "\u001b[1;31mNameError\u001b[0m                                 Traceback (most recent call last)",
      "\u001b[1;32m~\\AppData\\Local\\Temp/ipykernel_10916/3027816954.py\u001b[0m in \u001b[0;36m<module>\u001b[1;34m\u001b[0m\n\u001b[0;32m      4\u001b[0m            \u001b[1;34mf' \\nTransmission = {self.transmission} '\u001b[0m\u001b[0;31m \u001b[0m\u001b[0;31m\\\u001b[0m\u001b[1;33m\u001b[0m\u001b[1;33m\u001b[0m\u001b[0m\n\u001b[0;32m      5\u001b[0m            \u001b[1;34mf'\\nElectric = {self.electric}'\u001b[0m\u001b[1;33m\u001b[0m\u001b[1;33m\u001b[0m\u001b[0m\n\u001b[1;32m----> 6\u001b[1;33m \u001b[1;32mclass\u001b[0m \u001b[0mBMW\u001b[0m\u001b[1;33m(\u001b[0m\u001b[0mCars\u001b[0m\u001b[1;33m)\u001b[0m\u001b[1;33m:\u001b[0m\u001b[1;33m\u001b[0m\u001b[1;33m\u001b[0m\u001b[0m\n\u001b[0m\u001b[0;32m      7\u001b[0m     \u001b[1;32mdef\u001b[0m \u001b[0m__init__\u001b[0m\u001b[1;33m(\u001b[0m\u001b[0mself\u001b[0m\u001b[1;33m,\u001b[0m \u001b[0mmodel\u001b[0m\u001b[1;33m,\u001b[0m \u001b[0mcolor\u001b[0m\u001b[1;33m,\u001b[0m \u001b[0myear\u001b[0m\u001b[1;33m,\u001b[0m\u001b[0mtransmission\u001b[0m\u001b[1;33m,\u001b[0m \u001b[0melectric\u001b[0m\u001b[1;33m=\u001b[0m\u001b[1;32mFalse\u001b[0m\u001b[1;33m)\u001b[0m\u001b[1;33m:\u001b[0m\u001b[1;33m\u001b[0m\u001b[1;33m\u001b[0m\u001b[0m\n\u001b[0;32m      8\u001b[0m         \u001b[0mCars\u001b[0m\u001b[1;33m.\u001b[0m\u001b[0m__init__\u001b[0m\u001b[1;33m(\u001b[0m\u001b[0mself\u001b[0m\u001b[1;33m,\u001b[0m \u001b[0mmodel\u001b[0m\u001b[1;33m,\u001b[0m \u001b[0mcolor\u001b[0m\u001b[1;33m,\u001b[0m \u001b[0myear\u001b[0m\u001b[1;33m,\u001b[0m\u001b[0mtransmission\u001b[0m\u001b[1;33m,\u001b[0m \u001b[0melectric\u001b[0m\u001b[1;33m=\u001b[0m\u001b[0melectric\u001b[0m\u001b[1;33m)\u001b[0m\u001b[1;33m\u001b[0m\u001b[1;33m\u001b[0m\u001b[0m\n",
      "\u001b[1;31mNameError\u001b[0m: name 'Cars' is not defined"
     ]
    }
   ],
   "source": [
    "def print_car(self):\n",
    "    return f'car_model = {self.model}\\nColor = ' \\\n",
    "           f'{self.color} \\nYear = {self.year}' \\\n",
    "           f' \\nTransmission = {self.transmission} ' \\\n",
    "           f'\\nElectric = {self.electric}'\n",
    "class BMW(Cars):\n",
    "    def __init__(self, model, color, year,transmission, electric=False):\n",
    "        Cars.__init__(self, model, color, year,transmission, electric=electric)\n",
    "\n",
    "class Tesla(Cars):\n",
    "    def __init__(self, model, color, year,transmission, electric=False):\n",
    "        Cars.__init__(self, model, color, year,transmission, electric=electric)\n",
    "        \n",
    "class Ford(Cars):\n",
    "    def __init__(self, model, color, year,transmission, electric=False):\n",
    "        Cars.__init__(self, model, color, year,transmission, electric=electric)\n",
    "\n",
    "        \n",
    "ford1 = Ford(\"Focus\", \"White\", 2017, \"Auto\", False)\n",
    "print(ford1.print_car())\n",
    "\n",
    "tesla1 = Tesla(\"S\", \"Grey\", 2016, \"Manual\", True)\n",
    "print(tesla1.print_car())\n",
    "\n",
    "bmw1 = BMW('X6', 'silver', 2018, 'Auto', False)\n",
    "print(bmw1.print_car())"
   ]
  },
  {
   "cell_type": "code",
   "execution_count": null,
   "id": "439f33ac",
   "metadata": {},
   "outputs": [],
   "source": []
  }
 ],
 "metadata": {
  "kernelspec": {
   "display_name": "Python 3 (ipykernel)",
   "language": "python",
   "name": "python3"
  },
  "language_info": {
   "codemirror_mode": {
    "name": "ipython",
    "version": 3
   },
   "file_extension": ".py",
   "mimetype": "text/x-python",
   "name": "python",
   "nbconvert_exporter": "python",
   "pygments_lexer": "ipython3",
   "version": "3.9.7"
  }
 },
 "nbformat": 4,
 "nbformat_minor": 5
}
