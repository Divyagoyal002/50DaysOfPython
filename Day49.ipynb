{
 "cells": [
  {
   "cell_type": "code",
   "execution_count": 4,
   "id": "b3cc86ba",
   "metadata": {},
   "outputs": [
    {
     "ename": "OperationalError",
     "evalue": "table movies1 already exists",
     "output_type": "error",
     "traceback": [
      "\u001b[1;31m---------------------------------------------------------------------------\u001b[0m",
      "\u001b[1;31mOperationalError\u001b[0m                          Traceback (most recent call last)",
      "\u001b[1;32m~\\AppData\\Local\\Temp/ipykernel_7544/821318867.py\u001b[0m in \u001b[0;36m<module>\u001b[1;34m\u001b[0m\n\u001b[0;32m      2\u001b[0m \u001b[0mcon\u001b[0m \u001b[1;33m=\u001b[0m \u001b[0msqlite3\u001b[0m\u001b[1;33m.\u001b[0m\u001b[0mconnect\u001b[0m\u001b[1;33m(\u001b[0m\u001b[1;34m'movies.db'\u001b[0m\u001b[1;33m)\u001b[0m\u001b[1;33m\u001b[0m\u001b[1;33m\u001b[0m\u001b[0m\n\u001b[0;32m      3\u001b[0m \u001b[0mcur\u001b[0m \u001b[1;33m=\u001b[0m \u001b[0mcon\u001b[0m\u001b[1;33m.\u001b[0m\u001b[0mcursor\u001b[0m\u001b[1;33m(\u001b[0m\u001b[1;33m)\u001b[0m\u001b[1;33m\u001b[0m\u001b[1;33m\u001b[0m\u001b[0m\n\u001b[1;32m----> 4\u001b[1;33m \u001b[0mcur\u001b[0m\u001b[1;33m.\u001b[0m\u001b[0mexecute\u001b[0m\u001b[1;33m(\u001b[0m\u001b[1;34m'CREATE TABLE movies1(year,title, genre)'\u001b[0m\u001b[1;33m)\u001b[0m\u001b[1;33m\u001b[0m\u001b[1;33m\u001b[0m\u001b[0m\n\u001b[0m\u001b[0;32m      5\u001b[0m \u001b[1;31m# Creating a variable of all the movies\u001b[0m\u001b[1;33m\u001b[0m\u001b[1;33m\u001b[0m\u001b[0m\n\u001b[0;32m      6\u001b[0m \u001b[1;33m\u001b[0m\u001b[0m\n",
      "\u001b[1;31mOperationalError\u001b[0m: table movies1 already exists"
     ]
    }
   ],
   "source": [
    "import sqlite3\n",
    "con = sqlite3.connect('movies.db')\n",
    "cur = con.cursor()\n",
    "cur.execute('CREATE TABLE movies(year,title, genre)')\n",
    "# Creating a variable of all the movies\n",
    "\n",
    "movies = [(2009, 'Brothers', 'Drama'),\n",
    " (2002, 'Spider-Man', 'Sci-fi'),\n",
    " (2009, 'WatchMen', 'Drama'),\n",
    " (2010, 'Inception', 'Sci-fi'),\n",
    " (2009, 'Avatar', 'Fantasy')]\n",
    "cur .executemany('''INSERT INTO movies VALUES(?, ?, ?);''', movies)\n",
    "# commit and close\n",
    "con.commit()\n",
    "con.close()"
   ]
  },
  {
   "cell_type": "code",
   "execution_count": 8,
   "id": "4498bb23",
   "metadata": {},
   "outputs": [],
   "source": [
    "con = sqlite3.connect('movies1.db')\n",
    "cur = con.cursor()\n",
    "row = cur.fetchall()\n",
    "for row in cur.execute('SELECT * FROM Movies1;'):\n",
    "    print(row)"
   ]
  },
  {
   "cell_type": "code",
   "execution_count": 10,
   "id": "add647ce",
   "metadata": {},
   "outputs": [],
   "source": [
    "con = sqlite3.connect('movies.db')\n",
    "cur = con.cursor()\n",
    "row = cur.fetchall()\n",
    "for row in cur.execute('SELECT * FROM Movies WHERE '\n",
    " 'title =\"Brothers\";'):\n",
    "    print(row)"
   ]
  },
  {
   "cell_type": "code",
   "execution_count": 11,
   "id": "e635b212",
   "metadata": {},
   "outputs": [],
   "source": [
    "con = sqlite3.connect('movies.db')\n",
    "cur = con.cursor()\n",
    "row = cur.fetchall()\n",
    "for row in cur.execute('SELECT * FROM Movies WHERE '\n",
    " 'year = 2009'):\n",
    "    print(row)\n"
   ]
  },
  {
   "cell_type": "code",
   "execution_count": 12,
   "id": "2c18d0cd",
   "metadata": {},
   "outputs": [],
   "source": [
    "con = sqlite3.connect('movies.db')\n",
    "cur = con.cursor()\n",
    "row = cur.fetchall()\n",
    "for row in cur.execute('SELECT * FROM Movies WHERE '\n",
    " 'genre = \"Fantasy\" OR genre = \"Drama\";'):\n",
    "    print(row)"
   ]
  },
  {
   "cell_type": "code",
   "execution_count": 13,
   "id": "4ef67bac",
   "metadata": {},
   "outputs": [],
   "source": [
    "con = sqlite3.connect('movies.db')\n",
    "cur = con.cursor()\n",
    "cur.execute('DELETE FROM movies;')\n",
    "con.commit()\n"
   ]
  },
  {
   "cell_type": "code",
   "execution_count": null,
   "id": "b98115b4",
   "metadata": {},
   "outputs": [],
   "source": []
  }
 ],
 "metadata": {
  "kernelspec": {
   "display_name": "Python 3 (ipykernel)",
   "language": "python",
   "name": "python3"
  },
  "language_info": {
   "codemirror_mode": {
    "name": "ipython",
    "version": 3
   },
   "file_extension": ".py",
   "mimetype": "text/x-python",
   "name": "python",
   "nbconvert_exporter": "python",
   "pygments_lexer": "ipython3",
   "version": "3.9.7"
  }
 },
 "nbformat": 4,
 "nbformat_minor": 5
}
