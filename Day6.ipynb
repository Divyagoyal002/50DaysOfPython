{
 "cells": [
  {
   "cell_type": "code",
   "execution_count": 6,
   "id": "31bd2464",
   "metadata": {},
   "outputs": [
    {
     "name": "stdout",
     "output_type": "stream",
     "text": [
      "Enter your email  diva@gmail.com\n",
      "['diva', 'gmail.com']\n"
     ]
    }
   ],
   "source": [
    "def user_name():\n",
    "    email=input(\"Enter your email  \")\n",
    "    Uname=email.split(\"@\")\n",
    "    return Uname\n",
    "print(user_name())\n",
    "    "
   ]
  },
  {
   "cell_type": "code",
   "execution_count": 4,
   "id": "600eaf5d",
   "metadata": {},
   "outputs": [
    {
     "name": "stdout",
     "output_type": "stream",
     "text": [
      "[0, 5, 7, 8, 0]\n"
     ]
    }
   ],
   "source": [
    "list= [2, 5, 7, 8, 9]\n",
    "def zeroed(list):\n",
    "    list[0]=0\n",
    "    list[len(list)-1]=0\n",
    "    return list\n",
    "print(zeroed(list))"
   ]
  },
  {
   "cell_type": "code",
   "execution_count": null,
   "id": "1f5c0905",
   "metadata": {},
   "outputs": [],
   "source": []
  }
 ],
 "metadata": {
  "kernelspec": {
   "display_name": "Python 3 (ipykernel)",
   "language": "python",
   "name": "python3"
  },
  "language_info": {
   "codemirror_mode": {
    "name": "ipython",
    "version": 3
   },
   "file_extension": ".py",
   "mimetype": "text/x-python",
   "name": "python",
   "nbconvert_exporter": "python",
   "pygments_lexer": "ipython3",
   "version": "3.9.7"
  }
 },
 "nbformat": 4,
 "nbformat_minor": 5
}
