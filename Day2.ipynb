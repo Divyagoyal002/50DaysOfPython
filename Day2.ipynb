{
 "cells": [
  {
   "cell_type": "code",
   "execution_count": 6,
   "id": "61b21b91",
   "metadata": {},
   "outputs": [
    {
     "name": "stdout",
     "output_type": "stream",
     "text": [
      "9\n"
     ]
    }
   ],
   "source": [
    "list=['1','3','5']\n",
    "\n",
    "def convert_add(list):\n",
    "    sum=0\n",
    "    for i in list:\n",
    "        i=int(i)\n",
    "        sum=sum+i\n",
    "    return sum\n",
    "print(convert_add(list))\n",
    "    \n",
    "    "
   ]
  },
  {
   "cell_type": "code",
   "execution_count": 9,
   "id": "42155901",
   "metadata": {},
   "outputs": [
    {
     "name": "stdout",
     "output_type": "stream",
     "text": [
      "apple\n",
      "Yoda\n"
     ]
    }
   ],
   "source": [
    "string= ['apple', 'orange', 'orange','banana']\n",
    "names = ['Yoda', 'Moses', 'Joshua', 'Mark']\n",
    "#names = ['Yoda', 'Moses', 'Joshua', 'Mark']\n",
    "def check_duplicates(string):\n",
    "    for i in (0,len(string)):\n",
    "        if string[i]==string[i]:\n",
    "            return string[i]\n",
    "        else:\n",
    "            print(\"no duplicate\")\n",
    "print(check_duplicates(string))\n",
    "print(check_duplicates(names))\n",
    "        "
   ]
  },
  {
   "cell_type": "code",
   "execution_count": 12,
   "id": "aba601ed",
   "metadata": {},
   "outputs": [
    {
     "name": "stdout",
     "output_type": "stream",
     "text": [
      "apple\n",
      "Yoda\n"
     ]
    }
   ],
   "source": [
    "string= ['apple', 'orange', 'orange','banana']\n",
    "names = ['Yoda', 'Moses', 'Joshua', 'Mark']\n",
    "#names = ['Yoda', 'Moses', 'Joshua', 'Mark']\n",
    "def check_duplicates(string):\n",
    "    for i in (0,len(string)):\n",
    "        if string[i]==string[i]:\n",
    "            return string[i]\n",
    "        else:\n",
    "            return \"no duplicate\"\n",
    "print(check_duplicates(string))\n",
    "print(check_duplicates(names))"
   ]
  },
  {
   "cell_type": "code",
   "execution_count": 22,
   "id": "4a3cef30",
   "metadata": {},
   "outputs": [
    {
     "name": "stdout",
     "output_type": "stream",
     "text": [
      "orange\n"
     ]
    }
   ],
   "source": [
    "x= ['apple', 'orange','banana','banana']\n",
    "def check_duplicates(x):\n",
    "    for i in range(0, len(x)):\n",
    "        for j in range(1,len(x)):\n",
    "            if (x[i] == x[j]):\n",
    "                return x[i]\n",
    "print(check_duplicates(x))"
   ]
  },
  {
   "cell_type": "code",
   "execution_count": 24,
   "id": "f7774bc0",
   "metadata": {},
   "outputs": [
    {
     "name": "stdout",
     "output_type": "stream",
     "text": [
      "orange\n"
     ]
    }
   ],
   "source": [
    "x= ['apple', 'orange','banana','banana']\n",
    "def check_duplicates(x):\n",
    "    for i in range(0, len(x)):\n",
    "        for j in range(1,len(x)):\n",
    "            if (x[i] == x[j]):\n",
    "                return x[i]\n",
    "print(check_duplicates(x))"
   ]
  },
  {
   "cell_type": "code",
   "execution_count": null,
   "id": "a9378c8d",
   "metadata": {},
   "outputs": [],
   "source": []
  }
 ],
 "metadata": {
  "kernelspec": {
   "display_name": "Python 3 (ipykernel)",
   "language": "python",
   "name": "python3"
  },
  "language_info": {
   "codemirror_mode": {
    "name": "ipython",
    "version": 3
   },
   "file_extension": ".py",
   "mimetype": "text/x-python",
   "name": "python",
   "nbconvert_exporter": "python",
   "pygments_lexer": "ipython3",
   "version": "3.9.7"
  }
 },
 "nbformat": 4,
 "nbformat_minor": 5
}
