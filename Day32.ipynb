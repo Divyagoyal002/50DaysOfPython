{
 "cells": [
  {
   "cell_type": "code",
   "execution_count": 2,
   "id": "2b05a342",
   "metadata": {},
   "outputs": [
    {
     "name": "stdout",
     "output_type": "stream",
     "text": [
      "The list of valid emails is: ['ben@mail.com', 'kenny@gmail.com']\n"
     ]
    }
   ],
   "source": [
    "def email_validator(arr: list):\n",
    "    valid_emails = []\n",
    "    for email in arr:\n",
    "        if \"@\" in email and email.count('@') == 1 and email[-4:] == '.com':\n",
    "            if email[0] != '@':\n",
    "                valid_emails.append(email)\n",
    "            elif len(valid_emails) == 0:\n",
    "                return 'All emails are invalid'\n",
    "    return f'The list of valid emails is: {valid_emails}'\n",
    "emails = ['ben@mail.com', 'john@mail.cm', 'kenny@gmail.com', '@list.com', ]\n",
    "print(email_validator(emails))"
   ]
  },
  {
   "cell_type": "code",
   "execution_count": 4,
   "id": "415e9ff3",
   "metadata": {},
   "outputs": [
    {
     "name": "stdout",
     "output_type": "stream",
     "text": [
      "Enter passwordsdfghj5678\n",
      "['password should contain atleast one uppercase']\n"
     ]
    }
   ],
   "source": [
    "def password_validate():\n",
    "    \n",
    "    check=[]\n",
    "    while True:\n",
    "        p=input(\"Enter password\")\n",
    "        if len(p)<8:\n",
    "            check.append(\"Lenght of password should be minimum 8 character\")\n",
    "        elif not any(i.isupper() for i in p):\n",
    "            check.append(\"password should contain atleast one uppercase\")\n",
    "        elif not any(i.islower() for i in p):\n",
    "            check.append(\"password should contain atleast one lowercase\")\n",
    "        elif not any(i.isdigit() for i in p):\n",
    "            check.append(\"password should contain atleast one digit\")\n",
    "        return check\n",
    "print(password_validate())"
   ]
  },
  {
   "cell_type": "code",
   "execution_count": null,
   "id": "ef44254e",
   "metadata": {},
   "outputs": [],
   "source": []
  }
 ],
 "metadata": {
  "kernelspec": {
   "display_name": "Python 3 (ipykernel)",
   "language": "python",
   "name": "python3"
  },
  "language_info": {
   "codemirror_mode": {
    "name": "ipython",
    "version": 3
   },
   "file_extension": ".py",
   "mimetype": "text/x-python",
   "name": "python",
   "nbconvert_exporter": "python",
   "pygments_lexer": "ipython3",
   "version": "3.9.7"
  }
 },
 "nbformat": 4,
 "nbformat_minor": 5
}
