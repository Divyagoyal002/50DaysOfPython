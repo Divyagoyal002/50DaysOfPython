{
 "cells": [
  {
   "cell_type": "code",
   "execution_count": 4,
   "id": "e7ad8402",
   "metadata": {},
   "outputs": [
    {
     "name": "stdout",
     "output_type": "stream",
     "text": [
      "5\n"
     ]
    }
   ],
   "source": [
    "def odd_even(a):\n",
    "    even = []\n",
    "    odd = []\n",
    "    for i in a:\n",
    "        if i % 2 ==0:\n",
    "            even.append(i)\n",
    "        if i % 2 != 0:\n",
    "            odd.append(i)\n",
    "    return max(even) - min(odd)\n",
    "a=[1,2,4,6]\n",
    "print(odd_even(a))"
   ]
  },
  {
   "cell_type": "code",
   "execution_count": 15,
   "id": "9424e5a7",
   "metadata": {},
   "outputs": [
    {
     "name": "stdout",
     "output_type": "stream",
     "text": [
      "Please enter a number (integer): 6\n",
      "[3, 5, 5, 5]\n"
     ]
    }
   ],
   "source": [
    "def prime_numbers() -> list:\n",
    "    prime_num = []\n",
    "    n = int(input('Please enter an integer: '))\n",
    "    for i in range(0, n + 1):\n",
    "        if i > 1:\n",
    "            for j in range(2, i):\n",
    "                if i % j == 0:\n",
    "                     break\n",
    "                else:\n",
    "                    prime_num.append(i)\n",
    "    return prime_num\n",
    "print(prime_numbers())"
   ]
  },
  {
   "cell_type": "code",
   "execution_count": null,
   "id": "d590c9ea",
   "metadata": {},
   "outputs": [],
   "source": []
  }
 ],
 "metadata": {
  "kernelspec": {
   "display_name": "Python 3 (ipykernel)",
   "language": "python",
   "name": "python3"
  },
  "language_info": {
   "codemirror_mode": {
    "name": "ipython",
    "version": 3
   },
   "file_extension": ".py",
   "mimetype": "text/x-python",
   "name": "python",
   "nbconvert_exporter": "python",
   "pygments_lexer": "ipython3",
   "version": "3.9.7"
  }
 },
 "nbformat": 4,
 "nbformat_minor": 5
}
