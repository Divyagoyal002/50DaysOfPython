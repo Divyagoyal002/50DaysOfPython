{
 "cells": [
  {
   "cell_type": "code",
   "execution_count": 6,
   "id": "2a2cc91c",
   "metadata": {},
   "outputs": [
    {
     "name": "stdout",
     "output_type": "stream",
     "text": [
      "Enter usernamedivya\n",
      "ayvid15\n"
     ]
    }
   ],
   "source": [
    "import random\n",
    "num=random.randint(0,100)\n",
    "def user_name():\n",
    "    name=input(\"Enter username\")\n",
    "    name=name[::-1]\n",
    "    username=name+str(num)\n",
    "    return username\n",
    "print(user_name())"
   ]
  },
  {
   "cell_type": "code",
   "execution_count": 7,
   "id": "491efe5f",
   "metadata": {},
   "outputs": [
    {
     "name": "stdout",
     "output_type": "stream",
     "text": [
      "['Jon', 'Peter', 'Andrew']\n"
     ]
    }
   ],
   "source": [
    "def sort_length(arr: list):\n",
    "    for item in range(len(arr)):\n",
    "        for j in range(len(arr) - 1):\n",
    " # Check if any of the words is longer than the other\n",
    "            if len(arr[j]) > len(arr[j + 1]):\n",
    " # swap the longest for the shortest\n",
    "                arr[j], arr[j + 1] = arr[j + 1], arr[j]\n",
    "    return arr\n",
    "names = [\"Peter\", \"Jon\", \"Andrew\"]\n",
    "print(sort_length(names))"
   ]
  },
  {
   "cell_type": "code",
   "execution_count": null,
   "id": "d4e30008",
   "metadata": {},
   "outputs": [],
   "source": []
  }
 ],
 "metadata": {
  "kernelspec": {
   "display_name": "Python 3 (ipykernel)",
   "language": "python",
   "name": "python3"
  },
  "language_info": {
   "codemirror_mode": {
    "name": "ipython",
    "version": 3
   },
   "file_extension": ".py",
   "mimetype": "text/x-python",
   "name": "python",
   "nbconvert_exporter": "python",
   "pygments_lexer": "ipython3",
   "version": "3.9.7"
  }
 },
 "nbformat": 4,
 "nbformat_minor": 5
}
