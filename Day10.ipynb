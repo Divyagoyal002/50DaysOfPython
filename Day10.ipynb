{
 "cells": [
  {
   "cell_type": "code",
   "execution_count": 3,
   "id": "f469112c",
   "metadata": {},
   "outputs": [
    {
     "name": "stdout",
     "output_type": "stream",
     "text": [
      "Enter password  34erdfgv\n",
      "You password is ******** and its 8 characters long\n"
     ]
    }
   ],
   "source": [
    "def your_password():\n",
    "    password1 = input('Enter password  ')\n",
    "    password = len(password1) * '*'\n",
    "    return f'You password is {password} ' \\\n",
    "        f'and its {len(password)} characters long'\n",
    "print(your_password())"
   ]
  },
  {
   "cell_type": "code",
   "execution_count": 5,
   "id": "2e250e31",
   "metadata": {},
   "outputs": [
    {
     "name": "stdout",
     "output_type": "stream",
     "text": [
      "['1,000,000']\n"
     ]
    }
   ],
   "source": [
    "def convert_numbers(n):\n",
    "    new_list = []\n",
    "    for num in n:\n",
    "        new_list.append(\"{:,}\".format(num))\n",
    "        return new_list\n",
    "print(convert_numbers([1000000, 2356989, 2354672, 9878098]))\n"
   ]
  },
  {
   "cell_type": "code",
   "execution_count": null,
   "id": "46c33347",
   "metadata": {},
   "outputs": [],
   "source": []
  }
 ],
 "metadata": {
  "kernelspec": {
   "display_name": "Python 3 (ipykernel)",
   "language": "python",
   "name": "python3"
  },
  "language_info": {
   "codemirror_mode": {
    "name": "ipython",
    "version": 3
   },
   "file_extension": ".py",
   "mimetype": "text/x-python",
   "name": "python",
   "nbconvert_exporter": "python",
   "pygments_lexer": "ipython3",
   "version": "3.9.7"
  }
 },
 "nbformat": 4,
 "nbformat_minor": 5
}
