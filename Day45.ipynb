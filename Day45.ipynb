{
 "cells": [
  {
   "cell_type": "code",
   "execution_count": 4,
   "id": "8f3f66d4",
   "metadata": {},
   "outputs": [
    {
     "name": "stdout",
     "output_type": "stream",
     "text": [
      "{'numeric': 1, 'special_cha': 8, 'total_char': 140}\n"
     ]
    }
   ],
   "source": [
    "import string\n",
    "def char(a):\n",
    "    special_cha = []\n",
    "    numeric_cha = []\n",
    "    d = {\n",
    "        'numeric': '',\n",
    "        'special_cha': '',\n",
    "        'total_char': ''\n",
    "}\n",
    "    for i in a.replace(' ', ''):\n",
    "        if i in string.punctuation:\n",
    "            if i not in special_cha:\n",
    "                special_cha.append(i)\n",
    "                d['special_cha'] = len(special_cha)\n",
    "        if i in string.digits:\n",
    "            if i not in numeric_cha:\n",
    "                numeric_cha.append(i)\n",
    "                d['numeric'] = len(numeric_cha)\n",
    "        else:\n",
    "                d['total_char'] = len(a.replace(' ', ''))\n",
    "    return d\n",
    "print(char('Python has a string format operator %. '\n",
    "        'This functions analogously to '\n",
    "        'printf format strings in C, e.g.'\n",
    "        '\"spam=%s eggs=%d\" % (\"blah\", 2) '\n",
    "        'evaluates to \"spam=blah eggs=2?'))"
   ]
  },
  {
   "cell_type": "code",
   "execution_count": null,
   "id": "6fd3444f",
   "metadata": {},
   "outputs": [],
   "source": []
  }
 ],
 "metadata": {
  "kernelspec": {
   "display_name": "Python 3 (ipykernel)",
   "language": "python",
   "name": "python3"
  },
  "language_info": {
   "codemirror_mode": {
    "name": "ipython",
    "version": 3
   },
   "file_extension": ".py",
   "mimetype": "text/x-python",
   "name": "python",
   "nbconvert_exporter": "python",
   "pygments_lexer": "ipython3",
   "version": "3.9.7"
  }
 },
 "nbformat": 4,
 "nbformat_minor": 5
}
