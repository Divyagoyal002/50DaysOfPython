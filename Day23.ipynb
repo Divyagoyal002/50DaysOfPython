{
 "cells": [
  {
   "cell_type": "code",
   "execution_count": 10,
   "id": "ad2142dc",
   "metadata": {},
   "outputs": [
    {
     "name": "stdout",
     "output_type": "stream",
     "text": [
      "Enter first number4\n",
      "Enter operator for the operation which has to be performed [+,-,*,/] /\n",
      "enter another number 2\n",
      "2.0\n",
      "try again\n"
     ]
    }
   ],
   "source": [
    "import operator\n",
    "def calculator():\n",
    "    a=int(input(\"Enter first number\"))\n",
    "    opt=input(\"Enter operator for the operation which has to be performed [+,-,*,/] \")\n",
    "    b=int(input(\"enter another number \"))\n",
    "    try:\n",
    "        if opt not in [\"+\",\"-\",\"/\",\"*\"]:\n",
    "            print(\"Enter valid operator\")\n",
    "    except ValueError:\n",
    "        print(\"Enter valid values\")\n",
    "    except ZeroDivisionError:\n",
    "        print(\"Number cannot be divided by zero\")\n",
    "    else:\n",
    "        if(opt==\"+\"):\n",
    "            print(operator.add(a,b))\n",
    "        elif(opt==\"-\"):\n",
    "            print(operator.sub(a,b))\n",
    "        elif(opt==\"*\"):\n",
    "            print(operator.mul(a,b))\n",
    "        elif(opt==\"/\"):\n",
    "            print(operator.truediv(a,b))\n",
    "        return \"try again\"\n",
    "print(calculator())\n",
    "            \n",
    "    "
   ]
  },
  {
   "cell_type": "code",
   "execution_count": null,
   "id": "b3b1a44d",
   "metadata": {},
   "outputs": [],
   "source": [
    "#Extra Challenge\n",
    "import math\n",
    "def multiply_words(a:str):\n",
    "    l=[]\n",
    "    for word in a.split():\n",
    "        l.append(len(word))\n",
    "        m=math.prod(l)\n",
    "    return m\n",
    "string=\"I\"\n",
    "print(multiply_words(string))"
   ]
  },
  {
   "cell_type": "code",
   "execution_count": null,
   "id": "9e2e9c94",
   "metadata": {},
   "outputs": [],
   "source": []
  }
 ],
 "metadata": {
  "kernelspec": {
   "display_name": "Python 3 (ipykernel)",
   "language": "python",
   "name": "python3"
  },
  "language_info": {
   "codemirror_mode": {
    "name": "ipython",
    "version": 3
   },
   "file_extension": ".py",
   "mimetype": "text/x-python",
   "name": "python",
   "nbconvert_exporter": "python",
   "pygments_lexer": "ipython3",
   "version": "3.9.7"
  }
 },
 "nbformat": 4,
 "nbformat_minor": 5
}
