{
 "cells": [
  {
   "cell_type": "code",
   "execution_count": 19,
   "id": "443719fd",
   "metadata": {},
   "outputs": [
    {
     "name": "stdout",
     "output_type": "stream",
     "text": [
      "HIIEE HAPPINESS\n"
     ]
    }
   ],
   "source": [
    "def capitalise(string: str):\n",
    "    string = string.upper()\n",
    "    print(string)\n",
    "string=\"hiiee Happiness\"\n",
    "capitalise(string)"
   ]
  },
  {
   "cell_type": "code",
   "execution_count": 17,
   "id": "4929bbaf",
   "metadata": {},
   "outputs": [
    {
     "ename": "SyntaxError",
     "evalue": "invalid syntax (Temp/ipykernel_6176/3640952398.py, line 7)",
     "output_type": "error",
     "traceback": [
      "\u001b[1;36m  File \u001b[1;32m\"C:\\Users\\DELL\\AppData\\Local\\Temp/ipykernel_6176/3640952398.py\"\u001b[1;36m, line \u001b[1;32m7\u001b[0m\n\u001b[1;33m    return words\u001b[0m\n\u001b[1;37m    ^\u001b[0m\n\u001b[1;31mSyntaxError\u001b[0m\u001b[1;31m:\u001b[0m invalid syntax\n"
     ]
    }
   ],
   "source": [
    "\n",
    "def string_rev(string: str):\n",
    "    words=[]\n",
    "    for item in string.split():\n",
    "        for i in item:\n",
    "            if(i.isupper()):\n",
    "                words.append(\" \".join(item[::-1])\n",
    "    return words\n",
    "str1 = 'leArning is hard, bUt if You appLy youRself ' \\\n",
    " 'you can achieVe success'\n",
    "\n",
    "print(string_rev(str1))"
   ]
  },
  {
   "cell_type": "code",
   "execution_count": null,
   "id": "e19579cd",
   "metadata": {},
   "outputs": [],
   "source": []
  }
 ],
 "metadata": {
  "kernelspec": {
   "display_name": "Python 3 (ipykernel)",
   "language": "python",
   "name": "python3"
  },
  "language_info": {
   "codemirror_mode": {
    "name": "ipython",
    "version": 3
   },
   "file_extension": ".py",
   "mimetype": "text/x-python",
   "name": "python",
   "nbconvert_exporter": "python",
   "pygments_lexer": "ipython3",
   "version": "3.9.7"
  }
 },
 "nbformat": 4,
 "nbformat_minor": 5
}
