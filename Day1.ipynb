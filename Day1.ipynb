{
 "cells": [
  {
   "cell_type": "code",
   "execution_count": 1,
   "id": "5cdd5146",
   "metadata": {},
   "outputs": [
    {
     "name": "stdout",
     "output_type": "stream",
     "text": [
      "15\n",
      "remainder is 3.872983346207417\n"
     ]
    }
   ],
   "source": [
    "import math\n",
    "n=int(input())\n",
    "def divide_or_square(n):\n",
    "    if n%5==0:\n",
    "        return math.sqrt(n);\n",
    "    else:\n",
    "        return n%5;\n",
    "result=divide_or_square(n);\n",
    "print(\"remainder is\" ,result)\n"
   ]
  },
  {
   "cell_type": "code",
   "execution_count": 14,
   "id": "a4768825",
   "metadata": {},
   "outputs": [
    {
     "name": "stdout",
     "output_type": "stream",
     "text": [
      "('cake', 'sports')\n"
     ]
    }
   ],
   "source": [
    "dict={'apple':'fruit','ball':'sports','cake':'desert'}\n",
    "def longest_value(dict):\n",
    "    x = max(dict.keys())\n",
    "    y = max(dict.values())\n",
    "    return x,y\n",
    "print(longest_value(dict))"
   ]
  }
 ],
 "metadata": {
  "kernelspec": {
   "display_name": "Python 3 (ipykernel)",
   "language": "python",
   "name": "python3"
  },
  "language_info": {
   "codemirror_mode": {
    "name": "ipython",
    "version": 3
   },
   "file_extension": ".py",
   "mimetype": "text/x-python",
   "name": "python",
   "nbconvert_exporter": "python",
   "pygments_lexer": "ipython3",
   "version": "3.9.7"
  }
 },
 "nbformat": 4,
 "nbformat_minor": 5
}
